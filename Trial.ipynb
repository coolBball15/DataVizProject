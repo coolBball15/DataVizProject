{
 "cells": [
  {
   "cell_type": "code",
   "execution_count": 41,
   "id": "1229e2b6",
   "metadata": {},
   "outputs": [],
   "source": [
    "from dash import dcc\n",
    "import pickle\n",
    "import plotly.express as px\n",
    "\n",
    "import numpy as np\n",
    "from sklearn.decomposition import PCA\n",
    "import matplotlib.pyplot as plt"
   ]
  },
  {
   "cell_type": "code",
   "execution_count": 42,
   "id": "b54f6f15",
   "metadata": {},
   "outputs": [],
   "source": [
    "def unpickle(file):\n",
    "    with open(file, 'rb') as fo:\n",
    "        dict = pickle.load(fo, encoding='bytes')\n",
    "    return dict"
   ]
  },
  {
   "cell_type": "code",
   "execution_count": 43,
   "id": "93e3267d",
   "metadata": {},
   "outputs": [],
   "source": [
    "data_dict = unpickle(\"data_pick/train\")"
   ]
  },
  {
   "cell_type": "code",
   "execution_count": 4,
   "id": "69b10a20",
   "metadata": {},
   "outputs": [
    {
     "name": "stdout",
     "output_type": "stream",
     "text": [
      "[b'bos_taurus_s_000507.png', b'stegosaurus_s_000125.png', b'mcintosh_s_000643.png', b'altar_boy_s_001435.png', b'cichlid_s_000031.png', b'phone_s_002161.png', b'car_train_s_000043.png', b'beaker_s_000604.png', b'fog_s_000397.png', b'rogue_elephant_s_000421.png', b'computer_keyboard_s_000757.png', b'willow_tree_s_000645.png', b'sunflower_s_000549.png', b'palace_s_000759.png', b'adriatic_s_001782.png', b'computer_keyboard_s_001277.png', b'bike_s_000682.png', b'wolf_pup_s_001323.png', b'squirrel_s_002467.png', b'sea_s_000678.png', b'shrew_s_002233.png', b'pine_tree_s_000087.png', b'rose_s_000373.png', b'surveillance_system_s_000769.png', b'pine_s_001533.png', b'table_s_000897.png', b'opossum_s_001237.png', b'quercus_alba_s_000257.png', b'leopard_s_000414.png', b'possum_s_002195.png', b'bike_s_000127.png', b'balmoral_castle_s_000361.png', b'acer_saccharinum_s_000646.png', b'lapin_s_000916.png', b'chimp_s_001419.png', b'clock_s_002291.png', b'streetcar_s_000663.png', b'male_child_s_000800.png', b'oriental_cockroach_s_000650.png', b'breakfast_table_s_001135.png', b'coluber_constrictor_s_000067.png', b'lobster_s_000034.png', b'mount_s_002852.png', b'wolf_pup_s_001277.png', b'areca_s_000244.png', b'skyscraper_s_000180.png', b'boy_s_001150.png', b'train_s_001640.png', b'tractor_s_001723.png', b'snake_s_000046.png', b'shortfin_mako_s_000172.png', b'butterfly_s_001371.png', b'television_s_000158.png', b'beer_bottle_s_001063.png', b'adriatic_s_002075.png', b'honeybee_s_001911.png', b'red_maple_s_000275.png', b'reclining_chair_s_001157.png', b'black_woman_s_001310.png', b'silver_maple_s_001664.png', b'syrian_hamster_s_000340.png', b'otter_s_000259.png', b'seal_s_001773.png', b'panthera_leo_s_000068.png', b'morchella_esculenta_s_000159.png', b'female_child_s_000292.png', b'bell_pepper_s_001100.png', b'forest_s_001702.png', b'crocodile_s_002505.png', b'valencia_orange_s_000087.png', b'tulip_s_000253.png', b'mus_musculus_s_000005.png', b'arabian_camel_s_000259.png', b'tractor_s_000104.png', b'hamster_s_001554.png', b'caterpillar_s_001005.png', b'bulldozer_s_000433.png', b'man_s_000841.png', b'woods_s_000031.png', b'leopard_s_000033.png', b'keyboard_s_000092.png', b'possum_s_000413.png', b'skunk_s_000825.png', b'kangaroo_s_002457.png', b'cirrocumulus_s_001397.png', b'panthera_pardus_s_000593.png', b'raccoon_s_002740.png', b'garden_snail_s_000513.png', b'mount_s_000051.png', b'caterpillar_s_000450.png', b'man_s_000737.png', b'camel_s_000876.png', b'girl_s_001964.png', b'minuteman_s_000073.png', b'fin_whale_s_000110.png', b'sweet_pepper_s_000921.png', b'manual-skunk007.png', b'nematode_s_000034.png', b'shark_s_002026.png', b'marine_turtle_s_000339.png', b'river_otter_s_000028.png', b'computer_keyboard_s_000598.png', b'castor_fiber_s_000167.png', b'timber_wolf_s_000489.png', b'dessert_plate_s_000192.png', b'turtle_s_000005.png', b'mushroom_s_001005.png', b'icbm_s_000392.png', b'wine_palm_s_000123.png', b'breakfast_table_s_000153.png', b'pinon_pine_s_001228.png', b'didelphis_virginiana_s_000042.png', b'armoire_s_000081.png', b'beaver_s_001511.png', b'boy_s_000081.png', b'forest_s_001481.png', b'route_s_002291.png', b'kangaroo_s_001956.png', b'chaise_s_001222.png', b'forest_s_000144.png', b'fox_s_001040.png', b'flatfish_s_000465.png', b'man_s_000985.png', b'bitter_orange_s_000905.png', b'tiger_s_001271.png', b'eagle_ray_s_000171.png', b'rose_s_001917.png', b'possum_s_000350.png', b'temple_orange_s_000014.png', b'opossum_s_000065.png', b'cycle_s_002598.png', b'salix_alba_s_000332.png', b'television_system_s_001769.png', b'dolphin_s_000421.png', b'lounge_chair_s_001124.png', b'atlantic_bottlenose_dolphin_s_000021.png', b'raccoon_s_001121.png', b'cattle_s_000366.png', b'wtc_s_002253.png', b'television_s_000053.png', b'oak_tree_s_000106.png', b'poppy_s_001932.png', b'missy_s_000260.png', b'hedgehog_s_000950.png', b'discharge_lamp_s_001121.png', b'castor_canadensis_s_000795.png', b'worm_s_001047.png', b'hedgehog_s_000483.png', b'masked_shrew_s_000089.png', b'sour_orange_s_001216.png', b'crab_s_001407.png', b'whale_s_000867.png', b'minibike_s_000824.png', b'nile_crocodile_s_001013.png', b'forest_s_001851.png', b'dinosaur_s_002033.png', b'keyboard_s_001222.png', b'argiope_aurantia_s_000308.png', b'flounder_s_001779.png', b'adam_s_002034.png', b'common_opossum_s_000023.png', b'chalice_s_001706.png', b'tank_s_000640.png', b'plaice_s_000550.png', b'sunflower_s_000444.png', b'snake_s_000451.png', b'keyboard_s_000055.png', b'orchid_s_000878.png', b'cup_s_001227.png', b'raccoon_s_002187.png', b'rabbit_s_001952.png', b'seal_s_001343.png', b'chimp_s_002067.png', b'opossum_s_001219.png', b'poppy_s_001961.png', b'seal_s_000038.png', b'macoun_s_000065.png', b'banded_gecko_s_000650.png', b'beetle_s_000229.png', b'footbridge_s_000052.png', b'cattle_s_001978.png', b'male_child_s_000374.png', b'elephant_s_002362.png', b'saucer_s_001505.png', b'spider_s_000009.png', b'lobster_s_000715.png', b'tram_s_000475.png', b'spider_s_000773.png', b'black_woman_s_000982.png', b'lion_cub_s_000553.png', b'man_s_000436.png', b'numbfish_s_000023.png', b'squirrel_s_001451.png', b'divided_highway_s_001338.png', b'sorex_araneus_s_000172.png', b'motorcycle_s_001856.png', b'streetcar_s_001848.png', b'wardrobe_s_000359.png', b'telephone_set_s_001471.png', b'step_rocket_s_000566.png', b'keyboard_s_000991.png', b'shark_s_000459.png', b'baby_s_000449.png', b'cain_s_000179.png', b'mount_s_000197.png', b'hedgehog_s_000032.png', b'panthera_leo_s_000716.png', b'butterfly_s_000777.png', b'alp_s_002103.png', b'ring_road_s_000322.png', b'rabbit_s_001665.png', b'lawn_mower_s_000052.png', b'house_s_000992.png', b'lobster_s_001705.png', b'hamster_s_001834.png', b'chimp_s_000280.png', b'garden_snail_s_000398.png', b'house_s_000333.png', b'keyboard_s_001475.png', b'bicycle_s_000537.png', b'soda_bottle_s_001739.png', b'poppy_s_002423.png', b'telephone_set_s_000154.png', b'computer_keyboard_s_000417.png', b'cattle_s_001528.png', b'orchid_s_001818.png', b'computer_keyboard_s_001353.png', b'goblet_s_000234.png', b'male_child_s_000659.png', b'tractor_s_000753.png', b'train_s_002155.png', b'train_s_000511.png', b'spider_s_001311.png', b'racoon_s_000375.png', b'tram_s_000405.png', b'chimpanzee_s_001180.png', b'spider_s_001685.png', b'electric_lamp_s_000649.png', b'ankylosaurus_s_001671.png', b'clock_s_000835.png', b'school_bus_s_001438.png', b'sofa_s_000004.png', b'male_child_s_000924.png', b'macropus_giganteus_s_000175.png', b'bowl_s_001230.png', b'salix_alba_s_000012.png', b'orchid_s_000499.png', b'rabbit_s_000297.png', b'keyboard_s_000032.png', b'discharge_lamp_s_000675.png', b'leopard_s_001332.png', b'moped_s_000169.png', b'motorcycle_s_001453.png', b'mushroom_s_001593.png', b'boy_s_002307.png', b'cloud_s_001591.png', b'cloud_s_000856.png', b'bulldozer_s_001774.png', b'shumard_oak_s_000107.png', b'man_s_000926.png', b'infant_s_000851.png', b'bowhead_s_001056.png', b'lion_s_001676.png', b'telephone_set_s_000659.png', b'fox_s_001649.png', b'raccoon_s_000598.png', b'caterpillar_s_000459.png', b'adam_s_002658.png', b'raccoon_s_001641.png', b'date_palm_s_000159.png', b'bartlett_pear_s_000454.png', b'cichlid_fish_s_000335.png', b'gecko_s_000199.png', b'boy_s_001906.png', b'sunflower_s_001373.png', b'cirrocumulus_cloud_s_000515.png', b'railroad_train_s_000200.png', b'palm_tree_s_001513.png', b'cattle_s_000659.png', b'byway_s_000036.png', b'raccoon_s_002225.png', b'goblet_s_000954.png', b'carassius_auratus_s_000432.png', b'bosc_s_000204.png', b'guitarfish_s_000596.png', b'bed_s_001459.png', b'bus_s_000314.png', b'colubrid_s_000836.png', b'bee_s_002016.png', b'table_s_000769.png', b'beetle_s_000181.png', b'mower_s_000031.png', b'lapin_s_002229.png', b'squirrel_s_000142.png', b'drawbridge_s_001392.png', b'mus_musculus_s_001086.png', b'porcupine_s_001592.png', b'dungeness_crab_s_000469.png', b'safety_bike_s_000482.png', b'navel_orange_s_000469.png', b'serengeti_s_001565.png', b'roundworm_s_000036.png', b'grey_wolf_s_001623.png', b'army_tank_s_000896.png', b'red_delicious_s_000552.png', b'worm_snake_s_000429.png', b'elephant_s_002874.png', b'bowl_s_000883.png', b'baby_s_000255.png', b'beetle_s_001769.png', b'lion_s_000032.png', b'sweet_pepper_s_000638.png', b'grey_wolf_s_001289.png', b'trout_s_000574.png', b'sunflower_s_001720.png', b'cup_s_000922.png', b'leopard_s_000559.png', b'northern_spy_s_000602.png', b'sunflower_s_001391.png', b'bed_s_001452.png', b'divided_highway_s_000832.png', b'plain_s_001151.png', b'dolphin_s_001674.png', b'white_woman_s_000709.png', b'sunflower_s_001846.png', b'armchair_s_000265.png', b'possum_s_000343.png', b'raccoon_s_002845.png', b'bowl_s_001218.png', b'skunk_s_000384.png', b'orchid_s_001270.png', b'bosc_s_000883.png', b'tv_s_002465.png', b'raccoon_s_000022.png', b'raccoon_s_000090.png', b'mako_s_001445.png', b'butterfly_orchid_s_001188.png', b'panthera_tigris_s_000539.png', b'panthera_pardus_s_000246.png', b'bungalow_s_000578.png', b'squirrel_s_000430.png', b'tv_s_000033.png', b'bear_s_002131.png', b'ankylosaurus_s_000716.png', b'lion_s_002042.png', b'lift_bridge_s_000070.png', b'shark_s_001047.png', b'golden_willow_s_000013.png', b'cirrocumulus_s_001438.png', b'willow_tree_s_001348.png', b'breakfast_table_s_000858.png', b'oxen_s_001941.png', b'poppy_s_000601.png', b'northern_spy_s_000766.png', b'chimpanzee_s_000577.png', b'male_child_s_001502.png', b'syrian_hamster_s_001413.png', b'opossum_s_001043.png', b'world_trade_center_s_001237.png', b'field_s_001255.png', b'bear_s_000044.png', b'squirrel_s_002376.png', b'sunflower_s_001415.png', b'argiope_aurantia_s_000726.png', b'stone_crab_s_001783.png', b'lapin_s_002654.png', b'seal_s_001016.png', b'male_child_s_001512.png', b'camelus_dromedarius_s_000230.png', b'indian_elephant_s_000094.png', b'dirt_bike_s_000124.png', b'lift_bridge_s_000903.png', b'rainbow_trout_s_000750.png', b'aegean_s_000757.png', b'television_s_002468.png', b'garden_snail_s_000966.png', b'dromedary_s_000084.png', b'tiger_beetle_s_000921.png', b'pickup_s_001180.png', b'mushroom_s_002093.png', b'river_otter_s_000386.png', b'panzer_s_000067.png', b'baby_s_002466.png', b'bear_s_001647.png', b'tractor_s_001465.png', b'bowl_s_000101.png', b'bear_s_002027.png', b'boy_s_000158.png', b'reclining_chair_s_000127.png', b'manual-beaver034.png', b'minibike_s_001863.png', b'crocodile_s_002271.png', b'minibike_s_001177.png', b'beetle_s_001021.png', b'stingray_s_002101.png', b'bear_cub_s_001016.png', b'lapin_s_000097.png', b'palm_tree_s_001619.png', b'soda_bottle_s_000645.png', b'banded_gecko_s_000157.png', b'fin_whale_s_000867.png', b'cain_s_000459.png', b'bell_pepper_s_000991.png', b'rushlight_s_000226.png', b'pickup_s_001808.png', b'surveillance_system_s_001215.png', b'pine_tree_s_000025.png', b'caterpillar_s_000225.png', b'motorcycle_s_001792.png', b'built_in_bed_s_000558.png', b'tiger_s_000274.png', b'dungeness_crab_s_000178.png', b'chimp_s_000637.png', b'oriental_cockroach_s_001588.png', b'valencia_orange_s_000882.png', b'causeway_s_000413.png', b'mount_s_001947.png', b'bulldozer_s_001897.png', b'willow_tree_s_001747.png', b'lady_tulip_s_000107.png', b'tiger_beetle_s_000209.png', b'school_bus_s_000236.png', b'nematode_s_001472.png', b'alp_s_000837.png', b'alarm_clock_s_000740.png', b'palm_tree_s_000276.png', b'stingray_s_001539.png', b'minibus_s_001401.png', b'wolf_pup_s_001918.png', b'apis_mellifera_s_001442.png', b'cattle_s_000150.png', b'world_trade_center_s_000024.png', b'rabbit_s_000039.png', b'pop_bottle_s_001263.png', b'sea_s_000630.png', b'hedgehog_s_001903.png', b'adriatic_sea_s_001411.png', b'caterpillar_s_001744.png', b'river_otter_s_000223.png', b'fox_s_001599.png', b'caterpillar_s_002191.png', b'pearmain_s_000139.png', b'date_palm_s_000021.png', b'cloud_s_000031.png', b'striped_skunk_s_001335.png', b'rose_s_000123.png', b'hognose_snake_s_000782.png', b'lobster_s_001171.png', b'raccoon_s_001131.png', b'trout_s_001341.png', b'couch_s_000195.png', b'pickup_s_000169.png', b'train_s_001419.png', b'pachycephalosaurus_s_001100.png', b'byway_s_001933.png', b'female_child_s_000940.png', b'butterfly_orchid_s_001933.png', b'garden_snail_s_001564.png', b'timber_wolf_s_001336.png', b'red_delicious_s_001189.png', b'rose_s_001126.png', b'striped_skunk_s_001123.png', b'field_s_000442.png', b'rabbit_s_001088.png', b'bed_s_000680.png', b'pickup_s_000872.png', b'sunflower_s_000507.png', b'alp_s_001957.png', b'plate_s_000583.png', b'chalice_s_000481.png', b'banded_gecko_s_000308.png', b'palm_s_001288.png', b'sunflower_s_002364.png', b'fishplate_s_000122.png', b'king_of_beasts_s_001934.png', b'reclining_chair_s_001474.png', b'kangaroo_s_000337.png', b'armoured_combat_vehicle_s_000442.png', b'tv_s_000971.png', b'mount_s_001367.png', b'armored_combat_vehicle_s_000092.png', b'oriental_cockroach_s_000660.png', b'beetle_s_000140.png', b'panthera_tigris_s_000518.png', b'discharge_lamp_s_001205.png', b'kangaroo_s_002432.png', b'seal_s_001302.png', b'oil_palm_s_000902.png', b'beaver_s_000300.png', b'streetcar_s_001199.png', b'black_woman_s_000361.png', b'wolf_pup_s_001346.png', b'butterfly_s_001034.png', b'man_s_001512.png', b'cirrostratus_s_000880.png', b'tractor_s_000670.png', b'phone_s_002177.png', b'bell_pepper_s_000521.png', b'orchid_s_001494.png', b'crocodylus_niloticus_s_000031.png', b'motor_mower_s_000278.png', b'willow_tree_s_002039.png', b'carassius_auratus_s_000240.png', b'streetcar_s_001216.png', b'spider_s_002036.png', b'dolphin_s_001789.png', b'castle_s_002549.png', b'mourning_cloak_s_000845.png', b'guitarfish_s_000177.png', b'recliner_s_001853.png', b'butterfly_orchid_s_000220.png', b'tulip_s_001088.png', b'forest_s_000628.png', b'bartlett_s_000802.png', b'rabbit_s_001687.png', b'alp_s_000839.png', b'adriatic_sea_s_002055.png', b'pine_tree_s_001493.png', b'army_tank_s_000588.png', b'clock_s_002353.png', b'indian_elephant_s_000201.png', b'panzer_s_000006.png', b'palace_s_001469.png', b'panthera_pardus_s_000718.png', b'poppy_s_000707.png', b'crab_s_001193.png', b'field_s_001814.png', b'nile_crocodile_s_001648.png', b'anjou_s_000404.png', b'oxen_s_001496.png', b'wolf_cub_s_001051.png', b'tiger_s_000719.png', b'bowl_s_000643.png', b'elephant_s_002867.png', b'cloud_s_000879.png', b'table_s_002781.png', b'shrew_s_000446.png', b'porcupine_s_000275.png', b'armoire_s_000304.png', b'snail_s_002283.png', b'train_s_001132.png', b'field_s_001105.png', b'bed_s_001805.png', b'cichlid_fish_s_000840.png', b'saucer_s_000150.png', b'right_whale_s_000132.png', b'plaice_s_000350.png', b'balaenoptera_physalus_s_000007.png', b'pear_s_001156.png', b'plaice_s_000110.png', b'cirrostratus_s_000901.png', b'computer_keyboard_s_002296.png', b'lobster_s_002082.png', b'lawn_mower_s_000203.png', b'research_rocket_s_000047.png', b'tractor_s_001897.png', b'lobster_s_000076.png', b'silver_maple_s_001252.png', b'bartlett_pear_s_000444.png', b'boy_s_002179.png', b'minibike_s_001969.png', b'shrew_s_001585.png', b'baby_s_001993.png', b'boy_s_001803.png', b'balaenoptera_physalus_s_000115.png', b'field_mouse_s_000921.png', b'house_s_000981.png', b'pine_s_000436.png', b'adriatic_s_002852.png', b'breakfast_table_s_001147.png', b'dozer_s_000609.png', b'breakfast_table_s_001484.png', b'rose_s_001319.png', b'soda_can_s_000473.png', b'adriatic_sea_s_000597.png', b'velocipede_s_001585.png', b'moped_s_000035.png', b'elephant_s_002404.png', b'eve_s_000004.png', b'plaice_s_000047.png', b'baby_s_002128.png', b'water_shrew_s_000191.png', b'poppy_s_001264.png', b'sea_s_002165.png', b'train_s_001394.png', b'red_fox_s_000435.png', b'disciotis_venosa_s_000196.png', b'macoun_s_000441.png', b'lift_bridge_s_000420.png', b'crab_s_002209.png', b'bartlett_pear_s_000233.png', b'poppy_s_001733.png', b'bartlett_pear_s_000472.png', b'indian_elephant_s_000796.png', b'rabbit_s_001146.png', b'yellowtail_flounder_s_000243.png', b'coffee_can_s_001622.png', b'little_girl_s_000041.png', b'black_woman_s_001350.png', b'male_child_s_001793.png']\n",
      "[19, 29, 0, 11, 1, 86, 90, 28, 23, 31, 39, 96, 82, 17, 71, 39, 8, 97, 80, 71, 74, 59, 70, 87, 59, 84, 64, 52, 42, 64, 8, 17, 47, 65, 21, 22, 81, 11, 24, 84, 78, 45, 49, 97, 56, 76, 11, 90, 89, 78, 73, 14, 87, 9, 71, 6, 47, 20, 98, 47, 36, 55, 72, 43, 51, 35, 83, 33, 27, 53, 92, 50, 15, 89, 36, 18, 89, 46, 33, 42, 39, 64, 75, 38, 23, 42, 66, 77, 49, 18, 46, 15, 35, 69, 95, 83, 75, 99, 73, 93, 55, 39, 4, 97, 61, 93, 51, 69, 56, 84, 59, 64, 94, 4, 11, 33, 68, 38, 20, 33, 34, 32, 46, 53, 88, 67, 70, 64, 53, 64, 8, 96, 87, 30, 20, 30, 66, 19, 76, 87, 52, 62, 35, 63, 40, 4, 99, 63, 74, 53, 26, 95, 48, 27, 33, 29, 39, 79, 32, 46, 64, 28, 85, 32, 82, 78, 39, 54, 28, 66, 65, 72, 21, 64, 62, 72, 0, 44, 7, 12, 19, 11, 31, 61, 79, 45, 81, 79, 98, 43, 46, 67, 80, 68, 74, 48, 81, 94, 86, 69, 39, 73, 2, 46, 49, 63, 43, 14, 49, 68, 65, 41, 37, 45, 36, 21, 77, 37, 39, 8, 9, 62, 86, 39, 19, 54, 39, 28, 11, 89, 90, 90, 79, 66, 81, 21, 79, 40, 29, 22, 13, 25, 11, 38, 10, 96, 54, 65, 39, 40, 42, 48, 48, 51, 11, 23, 23, 89, 52, 46, 2, 95, 43, 86, 34, 66, 18, 46, 66, 56, 57, 1, 44, 11, 82, 23, 90, 56, 19, 68, 66, 28, 1, 57, 67, 5, 13, 78, 6, 84, 7, 41, 65, 80, 12, 50, 63, 26, 8, 53, 60, 99, 97, 85, 0, 78, 31, 10, 2, 7, 43, 83, 97, 91, 82, 28, 42, 0, 82, 5, 68, 60, 30, 98, 82, 20, 64, 66, 10, 75, 54, 57, 87, 66, 66, 73, 54, 88, 42, 37, 80, 87, 3, 29, 43, 12, 73, 96, 23, 96, 84, 19, 62, 0, 21, 11, 36, 64, 76, 60, 3, 80, 82, 79, 26, 65, 72, 11, 15, 31, 48, 12, 91, 71, 87, 77, 15, 7, 58, 51, 55, 85, 2, 3, 89, 10, 3, 11, 20, 4, 48, 27, 48, 7, 67, 3, 65, 56, 9, 44, 95, 46, 83, 40, 58, 87, 59, 18, 48, 5, 88, 26, 21, 24, 53, 68, 49, 89, 96, 92, 7, 13, 99, 49, 22, 56, 67, 13, 97, 6, 19, 76, 65, 9, 71, 63, 71, 18, 55, 34, 18, 0, 56, 23, 75, 70, 78, 45, 66, 91, 25, 58, 90, 29, 68, 35, 54, 77, 97, 0, 70, 75, 60, 65, 5, 58, 82, 49, 61, 28, 44, 56, 82, 61, 43, 20, 38, 85, 87, 49, 85, 24, 7, 88, 40, 38, 72, 56, 4, 81, 98, 97, 14, 46, 23, 89, 86, 83, 54, 27, 41, 96, 1, 81, 79, 30, 17, 14, 67, 20, 54, 92, 33, 57, 65, 49, 71, 59, 85, 22, 31, 85, 17, 42, 62, 26, 60, 27, 57, 19, 97, 88, 10, 31, 23, 84, 74, 63, 94, 77, 90, 60, 5, 1, 61, 95, 32, 95, 57, 32, 23, 39, 45, 41, 69, 89, 45, 47, 57, 11, 48, 74, 2, 11, 95, 50, 37, 59, 71, 84, 89, 84, 70, 16, 71, 8, 48, 31, 98, 32, 2, 74, 62, 71, 90, 34, 51, 0, 12, 26, 57, 62, 57, 31, 65, 32, 16, 35, 98, 11]\n",
      "[11, 15, 4, 14, 1, 5, 18, 3, 10, 11, 5, 17, 2, 9, 10, 5, 18, 8, 16, 10, 16, 17, 2, 5, 17, 6, 12, 17, 8, 12, 18, 9, 17, 16, 11, 5, 19, 14, 7, 6, 15, 13, 10, 8, 17, 9, 14, 18, 19, 15, 1, 7, 5, 3, 10, 7, 17, 6, 14, 17, 16, 0, 0, 8, 4, 14, 4, 10, 15, 4, 2, 16, 11, 19, 16, 7, 19, 14, 10, 8, 5, 12, 12, 11, 10, 8, 12, 13, 10, 7, 14, 11, 14, 19, 0, 4, 12, 13, 1, 15, 0, 5, 0, 8, 3, 15, 4, 19, 17, 6, 17, 12, 6, 0, 14, 10, 9, 11, 6, 10, 12, 1, 14, 4, 8, 1, 2, 12, 4, 12, 18, 17, 5, 0, 6, 0, 12, 11, 9, 5, 17, 2, 14, 12, 5, 0, 13, 12, 16, 4, 13, 0, 18, 15, 10, 15, 5, 13, 1, 14, 12, 3, 19, 1, 2, 15, 5, 2, 3, 12, 16, 0, 11, 12, 2, 0, 4, 15, 7, 9, 11, 14, 11, 3, 13, 13, 19, 13, 14, 8, 14, 1, 16, 9, 16, 18, 19, 6, 5, 19, 5, 1, 14, 14, 10, 12, 8, 7, 10, 9, 16, 19, 9, 13, 16, 11, 13, 9, 5, 18, 3, 2, 5, 5, 11, 2, 5, 3, 14, 19, 18, 18, 13, 12, 19, 11, 13, 5, 15, 5, 18, 6, 14, 11, 3, 17, 2, 16, 5, 5, 8, 18, 18, 4, 14, 10, 10, 19, 17, 14, 14, 0, 8, 5, 12, 12, 7, 14, 12, 17, 4, 1, 15, 14, 2, 10, 18, 17, 11, 9, 12, 3, 1, 4, 1, 6, 18, 15, 7, 6, 7, 19, 16, 16, 9, 16, 12, 13, 18, 4, 10, 13, 8, 19, 4, 15, 11, 3, 14, 7, 8, 4, 8, 1, 2, 3, 8, 4, 2, 6, 9, 10, 0, 14, 2, 6, 12, 12, 3, 12, 2, 4, 5, 12, 12, 1, 2, 8, 8, 9, 16, 5, 8, 15, 8, 9, 1, 17, 10, 17, 6, 11, 2, 4, 11, 14, 16, 12, 9, 10, 8, 16, 2, 13, 13, 16, 0, 14, 11, 11, 18, 9, 1, 10, 5, 13, 11, 7, 18, 4, 0, 19, 14, 8, 19, 3, 8, 14, 6, 0, 18, 15, 18, 7, 1, 8, 16, 17, 3, 15, 0, 14, 4, 5, 18, 5, 17, 7, 18, 6, 8, 13, 11, 7, 4, 9, 10, 19, 17, 2, 7, 18, 13, 10, 5, 17, 1, 18, 8, 7, 11, 9, 16, 3, 10, 12, 10, 7, 0, 12, 7, 4, 17, 10, 12, 2, 15, 13, 12, 1, 6, 18, 18, 15, 9, 14, 2, 13, 8, 4, 2, 12, 10, 16, 6, 18, 2, 10, 3, 3, 15, 17, 2, 3, 8, 6, 11, 19, 5, 10, 19, 7, 7, 8, 5, 11, 0, 17, 0, 19, 14, 8, 7, 14, 10, 19, 5, 4, 2, 15, 19, 17, 1, 19, 13, 0, 9, 7, 1, 6, 2, 2, 10, 4, 16, 10, 10, 17, 19, 5, 11, 19, 9, 8, 2, 13, 10, 15, 4, 11, 8, 8, 3, 11, 10, 6, 16, 12, 6, 13, 18, 10, 6, 1, 3, 0, 1, 0, 4, 1, 10, 5, 13, 19, 19, 19, 13, 17, 4, 14, 18, 16, 14, 14, 0, 16, 9, 17, 10, 6, 19, 6, 2, 3, 10, 18, 18, 11, 14, 1, 14, 16, 2, 10, 18, 12, 4, 4, 9, 13, 4, 2, 4, 11, 16, 1, 3, 14, 14, 14]\n",
      "[[255 255 255 ...  10  59  79]\n",
      " [255 253 253 ... 253 253 255]\n",
      " [250 248 247 ... 194 207 228]\n",
      " ...\n",
      " [246 249 246 ... 198 196 200]\n",
      " [253 255 255 ... 216 212 208]\n",
      " [181 192 198 ... 179 184 178]]\n"
     ]
    }
   ],
   "source": [
    "def pick_x(x):\n",
    "    filenames = data_dict[b'filenames'][:x]\n",
    "    fine_labels = data_dict[b'fine_labels'][:x]\n",
    "    coarse_labels = data_dict[b'coarse_labels'][:x]\n",
    "    data = data_dict[b'data'][:x]\n",
    "    print(filenames)\n",
    "    print(fine_labels)\n",
    "    print(coarse_labels)\n",
    "    print(data)\n",
    "    return data, filenames, fine_labels, coarse_labels\n",
    "    \n",
    "data, filenames, fine_labels, coarse_labels = pick_x(600)"
   ]
  },
  {
   "cell_type": "code",
   "execution_count": 5,
   "id": "9d6fb356",
   "metadata": {},
   "outputs": [],
   "source": [
    "# Specify the number of components to keep (you can adjust this as needed)\n",
    "num_components = 2\n",
    "\n",
    "# Create a PCA object\n",
    "pca = PCA(n_components=num_components)\n",
    "\n",
    "# Fit and transform the data\n",
    "data_pca = pca.fit_transform(data)"
   ]
  },
  {
   "cell_type": "code",
   "execution_count": 6,
   "id": "23e19f69",
   "metadata": {},
   "outputs": [
    {
     "name": "stderr",
     "output_type": "stream",
     "text": [
      "/var/folders/j2/3_89d0w54p3gxvxn4xxzh_qw0000gn/T/ipykernel_96829/138456651.py:2: MatplotlibDeprecationWarning: The get_cmap function was deprecated in Matplotlib 3.7 and will be removed two minor releases later. Use ``matplotlib.colormaps[name]`` or ``matplotlib.colormaps.get_cmap(obj)`` instead.\n",
      "  coarse_colormap = plt.cm.get_cmap('viridis', len(unique_coarse_labels))  # You can choose any colormap\n",
      "/var/folders/j2/3_89d0w54p3gxvxn4xxzh_qw0000gn/T/ipykernel_96829/138456651.py:5: MatplotlibDeprecationWarning: The get_cmap function was deprecated in Matplotlib 3.7 and will be removed two minor releases later. Use ``matplotlib.colormaps[name]`` or ``matplotlib.colormaps.get_cmap(obj)`` instead.\n",
      "  fine_colormap = plt.cm.get_cmap('inferno', len(unique_fine_labels))  # You can choose any colormap\n"
     ]
    }
   ],
   "source": [
    "unique_coarse_labels = list(set(coarse_labels))\n",
    "coarse_colormap = plt.cm.get_cmap('viridis', len(unique_coarse_labels))  # You can choose any colormap\n",
    "\n",
    "unique_fine_labels = list(set(fine_labels))\n",
    "fine_colormap = plt.cm.get_cmap('inferno', len(unique_fine_labels))  # You can choose any colormap"
   ]
  },
  {
   "cell_type": "code",
   "execution_count": 7,
   "id": "ffa5de77",
   "metadata": {},
   "outputs": [],
   "source": [
    "# Create a normalization function to map labels to colors\n",
    "normalize = plt.Normalize(0, len(unique_coarse_labels))\n",
    "coarse_colors = [coarse_colormap(normalize(unique_coarse_labels.index(label))) for label in coarse_labels]\n",
    "\n",
    "normalize = plt.Normalize(0, len(unique_fine_labels))\n",
    "fine_colors = [fine_colormap(normalize(unique_fine_labels.index(label))) for label in fine_labels]"
   ]
  },
  {
   "cell_type": "code",
   "execution_count": 8,
   "id": "f90b872c",
   "metadata": {},
   "outputs": [
    {
     "name": "stderr",
     "output_type": "stream",
     "text": [
      "/var/folders/j2/3_89d0w54p3gxvxn4xxzh_qw0000gn/T/ipykernel_96829/31154328.py:5: UserWarning: No data for colormapping provided via 'c'. Parameters 'cmap' will be ignored\n",
      "  plt.scatter(data_pca[:, a], data_pca[:, b], c=fine_colors, cmap=fine_colormap)\n"
     ]
    },
    {
     "data": {
      "image/png": "[encoded data removed]",
      "text/plain": [
       "<Figure size 640x480 with 1 Axes>"
      ]
     },
     "metadata": {},
     "output_type": "display_data"
    }
   ],
   "source": [
    "a = 0\n",
    "b = 1\n",
    "# Create a scatter plot of the PCA results\n",
    "#plt.scatter(data_pca[:, a], data_pca[:, b], c=coarse_colors, cmap=coarse_colormap)\n",
    "plt.scatter(data_pca[:, a], data_pca[:, b], c=fine_colors, cmap=fine_colormap)\n",
    "\n",
    "plt.title('PCA of Image Data')\n",
    "plt.xlabel('Principal Component ' + str(a))\n",
    "plt.ylabel('Principal Component ' + str(b))\n",
    "plt.show()"
   ]
  },
  {
   "cell_type": "code",
   "execution_count": 17,
   "id": "98c1f985",
   "metadata": {},
   "outputs": [
    {
     "data": {
      "text/plain": [
       "1.248157262802124"
      ]
     },
     "execution_count": 17,
     "metadata": {},
     "output_type": "execute_result"
    }
   ],
   "source": [
    "# TSNE\n",
    "from sklearn.manifold import TSNE\n",
    "\n",
    "tsne = TSNE(n_components=2, random_state=1)\n",
    "X_tsne = tsne.fit_transform(data)\n",
    "tsne.kl_divergence_"
   ]
  },
  {
   "cell_type": "code",
   "execution_count": 20,
   "id": "c61c6b47",
   "metadata": {},
   "outputs": [
    {
     "data": {
      "application/vnd.plotly.v1+json": {
       "config": {
        "plotlyServerURL": "https://plot.ly"
       },
       "data": [
        {
         "hovertemplate": "x=%{x}<br>y=%{y}<br>color=%{marker.color}<extra></extra>",
         "legendgroup": "",
         "marker": {
          "color": [
           11,
           15,
           4,
           14,
           1,
           5,
           18,
           3,
           10,
           11,
           5,
           17,
           2,
           9,
           10,
           5,
           18,
           8,
           16,
           10,
           16,
           17,
           2,
           5,
           17,
           6,
           12,
           17,
           8,
           12,
           18,
           9,
           17,
           16,
           11,
           5,
           19,
           14,
           7,
           6,
           15,
           13,
           10,
           8,
           17,
           9,
           14,
           18,
           19,
           15,
           1,
           7,
           5,
           3,
           10,
           7,
           17,
           6,
           14,
           17,
           16,
           0,
           0,
           8,
           4,
           14,
           4,
           10,
           15,
           4,
           2,
           16,
           11,
           19,
           16,
           7,
           19,
           14,
           10,
           8,
           5,
           12,
           12,
           11,
           10,
           8,
           12,
           13,
           10,
           7,
           14,
           11,
           14,
           19,
           0,
           4,
           12,
           13,
           1,
           15,
           0,
           5,
           0,
           8,
           3,
           15,
           4,
           19,
           17,
           6,
           17,
           12,
           6,
           0,
           14,
           10,
           9,
           11,
           6,
           10,
           12,
           1,
           14,
           4,
           8,
           1,
           2,
           12,
           4,
           12,
           18,
           17,
           5,
           0,
           6,
           0,
           12,
           11,
           9,
           5,
           17,
           2,
           14,
           12,
           5,
           0,
           13,
           12,
           16,
           4,
           13,
           0,
           18,
           15,
           10,
           15,
           5,
           13,
           1,
           14,
           12,
           3,
           19,
           1,
           2,
           15,
           5,
           2,
           3,
           12,
           16,
           0,
           11,
           12,
           2,
           0,
           4,
           15,
           7,
           9,
           11,
           14,
           11,
           3,
           13,
           13,
           19,
           13,
           14,
           8,
           14,
           1,
           16,
           9,
           16,
           18,
           19,
           6,
           5,
           19,
           5,
           1,
           14,
           14,
           10,
           12,
           8,
           7,
           10,
           9,
           16,
           19,
           9,
           13,
           16,
           11,
           13,
           9,
           5,
           18,
           3,
           2,
           5,
           5,
           11,
           2,
           5,
           3,
           14,
           19,
           18,
           18,
           13,
           12,
           19,
           11,
           13,
           5,
           15,
           5,
           18,
           6,
           14,
           11,
           3,
           17,
           2,
           16,
           5,
           5,
           8,
           18,
           18,
           4,
           14,
           10,
           10,
           19,
           17,
           14,
           14,
           0,
           8,
           5,
           12,
           12,
           7,
           14,
           12,
           17,
           4,
           1,
           15,
           14,
           2,
           10,
           18,
           17,
           11,
           9,
           12,
           3,
           1,
           4,
           1,
           6,
           18,
           15,
           7,
           6,
           7,
           19,
           16,
           16,
           9,
           16,
           12,
           13,
           18,
           4,
           10,
           13,
           8,
           19,
           4,
           15,
           11,
           3,
           14,
           7,
           8,
           4,
           8,
           1,
           2,
           3,
           8,
           4,
           2,
           6,
           9,
           10,
           0,
           14,
           2,
           6,
           12,
           12,
           3,
           12,
           2,
           4,
           5,
           12,
           12,
           1,
           2,
           8,
           8,
           9,
           16,
           5,
           8,
           15,
           8,
           9,
           1,
           17,
           10,
           17,
           6,
           11,
           2,
           4,
           11,
           14,
           16,
           12,
           9,
           10,
           8,
           16,
           2,
           13,
           13,
           16,
           0,
           14,
           11,
           11,
           18,
           9,
           1,
           10,
           5,
           13,
           11,
           7,
           18,
           4,
           0,
           19,
           14,
           8,
           19,
           3,
           8,
           14,
           6,
           0,
           18,
           15,
           18,
           7,
           1,
           8,
           16,
           17,
           3,
           15,
           0,
           14,
           4,
           5,
           18,
           5,
           17,
           7,
           18,
           6,
           8,
           13,
           11,
           7,
           4,
           9,
           10,
           19,
           17,
           2,
           7,
           18,
           13,
           10,
           5,
           17,
           1,
           18,
           8,
           7,
           11,
           9,
           16,
           3,
           10,
           12,
           10,
           7,
           0,
           12,
           7,
           4,
           17,
           10,
           12,
           2,
           15,
           13,
           12,
           1,
           6,
           18,
           18,
           15,
           9,
           14,
           2,
           13,
           8,
           4,
           2,
           12,
           10,
           16,
           6,
           18,
           2,
           10,
           3,
           3,
           15,
           17,
           2,
           3,
           8,
           6,
           11,
           19,
           5,
           10,
           19,
           7,
           7,
           8,
           5,
           11,
           0,
           17,
           0,
           19,
           14,
           8,
           7,
           14,
           10,
           19,
           5,
           4,
           2,
           15,
           19,
           17,
           1,
           19,
           13,
           0,
           9,
           7,
           1,
           6,
           2,
           2,
           10,
           4,
           16,
           10,
           10,
           17,
           19,
           5,
           11,
           19,
           9,
           8,
           2,
           13,
           10,
           15,
           4,
           11,
           8,
           8,
           3,
           11,
           10,
           6,
           16,
           12,
           6,
           13,
           18,
           10,
           6,
           1,
           3,
           0,
           1,
           0,
           4,
           1,
           10,
           5,
           13,
           19,
           19,
           19,
           13,
           17,
           4,
           14,
           18,
           16,
           14,
           14,
           0,
           16,
           9,
           17,
           10,
           6,
           19,
           6,
           2,
           3,
           10,
           18,
           18,
           11,
           14,
           1,
           14,
           16,
           2,
           10,
           18,
           12,
           4,
           4,
           9,
           13,
           4,
           2,
           4,
           11,
           16,
           1,
           3,
           14,
           14,
           14
          ],
          "coloraxis": "coloraxis",
          "symbol": "circle"
         },
         "mode": "markers",
         "name": "",
         "orientation": "v",
         "showlegend": false,
         "type": "scatter",
         "x": [
          -13.20616626739502,
          -10.75721263885498,
          -13.307329177856445,
          -6.2038164138793945,
          5.17956018447876,
          0.787700355052948,
          7.880903720855713,
          -12.811065673828125,
          -9.736875534057617,
          -10.430941581726074,
          -5.5653791427612305,
          -12.64592456817627,
          2.9532830715179443,
          -9.166778564453125,
          -1.4253116846084595,
          -2.0295145511627197,
          6.456754207611084,
          -0.8468949794769287,
          7.953394889831543,
          -7.859219074249268,
          -1.5344716310501099,
          4.420044898986816,
          -0.8714874386787415,
          -0.3294484317302704,
          -8.46891975402832,
          12.562474250793457,
          -3.3770973682403564,
          8.85859489440918,
          -9.9698486328125,
          -3.644005298614502,
          7.99980354309082,
          -0.09792431443929672,
          -6.823529243469238,
          10.509377479553223,
          2.3863747119903564,
          -9.509011268615723,
          13.635327339172363,
          -11.623656272888184,
          -13.025453567504883,
          8.328466415405273,
          11.097634315490723,
          -10.26607608795166,
          -10.142256736755371,
          10.557727813720703,
          7.447871208190918,
          -5.041998863220215,
          8.855886459350586,
          11.974164009094238,
          6.647625923156738,
          8.290813446044922,
          -5.188197612762451,
          15.464256286621094,
          -10.51683521270752,
          -11.338888168334961,
          -6.069885730743408,
          5.870345592498779,
          -8.235862731933594,
          -11.444511413574219,
          4.120810508728027,
          6.504996299743652,
          5.320728778839111,
          -12.632550239562988,
          -10.714122772216797,
          4.169305324554443,
          5.204041481018066,
          11.853060722351074,
          5.231494426727295,
          3.636584758758545,
          6.753340244293213,
          4.150839328765869,
          8.356701850891113,
          -3.834667205810547,
          -3.8361196517944336,
          9.384016036987305,
          -7.939601898193359,
          8.076099395751953,
          6.785294055938721,
          12.197549819946289,
          7.133373737335205,
          7.154362678527832,
          8.336322784423828,
          9.215374946594238,
          14.110381126403809,
          0.7384428381919861,
          5.137454986572266,
          12.399855613708496,
          -0.5240530967712402,
          7.185260772705078,
          -9.074979782104492,
          0.009095653891563416,
          10.858376502990723,
          12.58138656616211,
          -2.679091215133667,
          -11.736258506774902,
          -9.229920387268066,
          7.382794380187988,
          3.779965877532959,
          13.294278144836426,
          -4.92749547958374,
          4.647459030151367,
          3.5529370307922363,
          4.525545597076416,
          2.410991907119751,
          -10.541364669799805,
          -13.258310317993164,
          12.555893898010254,
          12.459632873535156,
          13.289798736572266,
          3.913616180419922,
          -9.540972709655762,
          -3.5106582641601562,
          9.019288063049316,
          0.7967276573181152,
          1.040695071220398,
          13.536670684814453,
          7.148956298828125,
          -3.7316715717315674,
          5.464498043060303,
          -7.973978519439697,
          -1.388155221939087,
          6.288750648498535,
          -1.2315539121627808,
          7.336033344268799,
          -2.7494587898254395,
          4.513833522796631,
          -4.804989337921143,
          -0.262978732585907,
          -2.3133435249328613,
          3.69437575340271,
          -0.31342682242393494,
          -6.22582483291626,
          -1.7591267824172974,
          6.127306938171387,
          -5.7465128898620605,
          -9.575032234191895,
          -5.201620578765869,
          9.396953582763672,
          6.841434478759766,
          -6.740468502044678,
          -2.0367588996887207,
          11.018441200256348,
          7.406581401824951,
          9.543841361999512,
          10.890066146850586,
          -4.073248863220215,
          4.408409118652344,
          9.017532348632812,
          11.696003913879395,
          4.806873798370361,
          -1.5671782493591309,
          10.161467552185059,
          5.449023246765137,
          -1.1094340085983276,
          -1.0166187286376953,
          -1.501727819442749,
          -3.746244192123413,
          5.658413410186768,
          2.8367185592651367,
          -5.758723735809326,
          0.3576692044734955,
          7.888050556182861,
          -10.51015853881836,
          -9.108470916748047,
          1.6001904010772705,
          -8.218779563903809,
          -1.0623481273651123,
          -10.945077896118164,
          10.169782638549805,
          -11.5469388961792,
          11.703173637390137,
          3.37762188911438,
          -1.7147352695465088,
          0.5191984176635742,
          8.810949325561523,
          10.659741401672363,
          -7.5096354484558105,
          6.140863418579102,
          7.2479329109191895,
          -13.886001586914062,
          -11.675522804260254,
          -12.017770767211914,
          -13.556412696838379,
          -4.610564708709717,
          5.533329963684082,
          4.408278465270996,
          -12.407851219177246,
          6.763762474060059,
          -12.73548412322998,
          8.54098129272461,
          2.643272876739502,
          -7.867456912994385,
          -7.294415473937988,
          -9.441116333007812,
          -9.641021728515625,
          6.213408946990967,
          -2.421462059020996,
          -13.1875581741333,
          -8.83713436126709,
          -5.550601005554199,
          -12.335689544677734,
          -11.40432357788086,
          3.1860063076019287,
          3.517331838607788,
          -2.5064289569854736,
          -5.789434909820557,
          2.1338069438934326,
          5.99694299697876,
          -1.2926982641220093,
          -6.921167373657227,
          -4.235687255859375,
          7.103094577789307,
          6.608484268188477,
          0.8051602244377136,
          -11.930669784545898,
          0.00627405010163784,
          -8.957975387573242,
          5.230468273162842,
          -11.267215728759766,
          -11.40876293182373,
          -2.340332269668579,
          -0.5994151830673218,
          11.672003746032715,
          5.453406810760498,
          -10.643550872802734,
          -12.47527027130127,
          -8.431022644042969,
          -1.4440662860870361,
          -8.470407485961914,
          -5.05775260925293,
          9.803010940551758,
          -12.460801124572754,
          -9.2578706741333,
          15.221989631652832,
          6.565863609313965,
          -3.460890531539917,
          -10.298712730407715,
          -11.83159351348877,
          10.459086418151855,
          -14.350221633911133,
          -13.376409530639648,
          5.878997802734375,
          -12.650784492492676,
          6.973410606384277,
          2.4795570373535156,
          12.849077224731445,
          -9.254951477050781,
          -6.903872489929199,
          2.0751430988311768,
          -8.132293701171875,
          -5.194272994995117,
          1.0952006578445435,
          2.9950098991394043,
          11.313244819641113,
          9.751443862915039,
          0.408437579870224,
          2.1755881309509277,
          -6.121956825256348,
          2.37947940826416,
          -1.7087703943252563,
          -9.440982818603516,
          5.275627613067627,
          -11.702496528625488,
          8.183772087097168,
          5.2037835121154785,
          2.456930160522461,
          7.230295181274414,
          0.5530725121498108,
          -8.326299667358398,
          2.4328246116638184,
          0.5687105655670166,
          -1.7114899158477783,
          10.423637390136719,
          9.739883422851562,
          6.329132080078125,
          -6.904252052307129,
          5.967072010040283,
          -9.705842971801758,
          2.046163320541382,
          9.429902076721191,
          -4.35355281829834,
          5.292069911956787,
          -13.569682121276855,
          -2.698293685913086,
          -14.36683177947998,
          -11.302876472473145,
          7.462123870849609,
          -4.898355007171631,
          2.8376832008361816,
          4.393538951873779,
          -11.432929992675781,
          2.34902024269104,
          3.222099542617798,
          -10.186797142028809,
          3.949432134628296,
          -11.085122108459473,
          -14.747453689575195,
          1.2126089334487915,
          1.0960910320281982,
          -12.031645774841309,
          10.249199867248535,
          -13.625630378723145,
          -11.000519752502441,
          12.652786254882812,
          -10.542881965637207,
          -13.615805625915527,
          12.136390686035156,
          -9.530983924865723,
          -4.430754661560059,
          1.27934992313385,
          -14.697522163391113,
          5.660053730010986,
          5.3236308097839355,
          11.711369514465332,
          5.382336616516113,
          5.803008079528809,
          -7.380688190460205,
          10.000007629394531,
          3.7847695350646973,
          4.891664981842041,
          0.23762890696525574,
          -4.303618907928467,
          -8.072739601135254,
          8.49212646484375,
          6.0902228355407715,
          8.325912475585938,
          -12.92732048034668,
          8.059017181396484,
          10.970617294311523,
          -0.7523726224899292,
          9.622868537902832,
          5.93895959854126,
          -3.5656368732452393,
          13.161439895629883,
          5.3797926902771,
          3.968937397003174,
          8.300169944763184,
          -1.1031218767166138,
          9.543107032775879,
          3.6815712451934814,
          -8.52525806427002,
          -0.720054030418396,
          7.639249801635742,
          12.514411926269531,
          8.486729621887207,
          -9.478572845458984,
          -9.429475784301758,
          -5.600897789001465,
          -2.022799253463745,
          -8.18267822265625,
          -10.707564353942871,
          10.087484359741211,
          9.91262435913086,
          7.033882141113281,
          6.0920000076293945,
          9.622579574584961,
          2.270756244659424,
          5.705472946166992,
          12.287210464477539,
          -9.15185260772705,
          -9.995514869689941,
          -6.369909286499023,
          -10.777729034423828,
          15.255584716796875,
          10.570781707763672,
          -14.299253463745117,
          9.628820419311523,
          2.369866132736206,
          4.533452987670898,
          -4.2006988525390625,
          6.6524152755737305,
          6.385169506072998,
          -10.733752250671387,
          4.318943023681641,
          -9.174081802368164,
          -4.145170211791992,
          -4.515106201171875,
          -3.627572774887085,
          -10.973093032836914,
          -1.737291932106018,
          7.044844150543213,
          10.62020492553711,
          1.878058910369873,
          0.998306930065155,
          -2.7335922718048096,
          -11.622669219970703,
          2.1398704051971436,
          -7.552241802215576,
          3.2852723598480225,
          -12.021848678588867,
          7.671909332275391,
          -1.9541864395141602,
          7.272228717803955,
          -7.534977436065674,
          6.8852667808532715,
          11.167447090148926,
          5.6888227462768555,
          -4.381159782409668,
          5.553565502166748,
          -12.843539237976074,
          6.7736077308654785,
          -5.786593914031982,
          11.431285858154297,
          12.228693008422852,
          -2.8501129150390625,
          -6.850386619567871,
          -9.662323951721191,
          -7.891263961791992,
          1.185585379600525,
          -13.150038719177246,
          -1.0040044784545898,
          -3.5640785694122314,
          -1.9625678062438965,
          0.45038414001464844,
          -0.6052464842796326,
          12.957417488098145,
          -10.409029960632324,
          4.099299430847168,
          4.208431243896484,
          -4.367288112640381,
          -2.092115879058838,
          -13.851717948913574,
          -13.326149940490723,
          -11.20915412902832,
          -5.9380974769592285,
          -10.380670547485352,
          -9.91862964630127,
          -5.620825290679932,
          -5.326690673828125,
          10.811697006225586,
          -10.605525970458984,
          11.371371269226074,
          -7.732471942901611,
          -7.454967021942139,
          7.838246822357178,
          3.8038148880004883,
          -0.5102115273475647,
          -10.832047462463379,
          6.213289260864258,
          -2.79624080657959,
          -10.023893356323242,
          12.52094554901123,
          0.6286783814430237,
          -8.715166091918945,
          -7.191385746002197,
          6.915859222412109,
          11.707449913024902,
          -11.716280937194824,
          -0.1948963701725006,
          3.7668824195861816,
          6.17180061340332,
          1.0866813659667969,
          -12.88039779663086,
          -11.217714309692383,
          10.704345703125,
          -8.581527709960938,
          -12.403955459594727,
          9.733499526977539,
          1.1548398733139038,
          5.229550361633301,
          -7.869114398956299,
          9.097561836242676,
          4.0753397941589355,
          -3.4628918170928955,
          -0.9725062251091003,
          -0.6183165907859802,
          9.567380905151367,
          -3.533677339553833,
          -7.089406967163086,
          -13.165487289428711,
          -7.388826370239258,
          5.919835567474365,
          -6.987485408782959,
          -0.5284132361412048,
          0.4340474605560303,
          1.4259865283966064,
          -11.316030502319336,
          7.769338607788086,
          10.975464820861816,
          6.552373886108398,
          -4.604880332946777,
          2.3877055644989014,
          1.755247712135315,
          -14.215383529663086,
          6.280951499938965,
          11.97260570526123,
          -1.4555550813674927,
          -6.780417442321777,
          -11.655437469482422,
          10.164595603942871,
          -0.29845187067985535,
          -7.200038909912109,
          -1.3602131605148315,
          -2.000225305557251,
          -8.2922945022583,
          -7.088504791259766,
          -10.540204048156738,
          13.086548805236816,
          -6.381959915161133,
          10.550400733947754,
          12.482451438903809,
          5.898697853088379,
          2.375945806503296,
          -8.381319046020508,
          -3.520169258117676,
          5.330423355102539,
          -5.634104251861572,
          4.85482120513916,
          9.117714881896973,
          12.749722480773926,
          -12.896918296813965,
          -8.567740440368652,
          13.39502239227295,
          11.567421913146973,
          4.614969253540039,
          9.934978485107422,
          -8.6317138671875,
          -8.678299903869629,
          -7.019668102264404,
          4.768362998962402,
          -13.202781677246094,
          1.3732197284698486,
          0.013738814741373062,
          7.357220649719238,
          -2.089148759841919,
          5.9432692527771,
          -12.745010375976562,
          -9.164554595947266,
          10.768265724182129,
          0.048837073147296906,
          2.878354787826538,
          4.404698371887207,
          2.5173332691192627,
          6.137753009796143,
          -0.6141149401664734,
          -5.7284088134765625,
          -11.377326965332031,
          5.583068370819092,
          3.0992157459259033,
          11.91993236541748,
          10.089104652404785,
          -11.470040321350098,
          -10.773680686950684,
          1.626702070236206,
          5.014275074005127,
          3.6208016872406006,
          -5.531403541564941,
          7.943909645080566,
          -5.628849029541016,
          -12.08601188659668,
          -0.6253028512001038,
          -1.160423755645752,
          -6.425601482391357,
          6.437469482421875,
          -3.8673877716064453,
          -7.028484344482422,
          12.459519386291504,
          -14.137938499450684,
          -6.502505779266357,
          -14.827840805053711,
          4.102756500244141,
          -11.192421913146973,
          10.3377103805542,
          5.812165260314941,
          -0.6738371253013611,
          -12.276480674743652,
          7.241730690002441,
          3.0106759071350098,
          -8.392045974731445,
          -10.966876029968262,
          7.525625228881836,
          -1.9579057693481445,
          -0.9504591822624207,
          3.3424715995788574,
          -12.97259521484375,
          -5.909146785736084,
          -1.7845054864883423,
          -2.2523396015167236,
          -6.097701549530029,
          11.302722930908203,
          -2.232471227645874,
          5.349588394165039,
          -1.013284683227539,
          7.466841697692871,
          -7.524065971374512,
          -9.029730796813965,
          5.820767402648926,
          8.911018371582031,
          9.588828086853027,
          -3.816162109375,
          -0.6864489912986755,
          -14.6722412109375,
          13.519947052001953,
          7.497004985809326,
          -2.8126041889190674,
          -14.62771224975586,
          1.4002538919448853,
          5.5356974601745605,
          -7.2462921142578125,
          -9.309062957763672,
          -6.140516757965088
         ],
         "xaxis": "x",
         "y": [
          1.5039335489273071,
          -13.176457405090332,
          -3.1638495922088623,
          -11.549955368041992,
          4.7329840660095215,
          -8.18401050567627,
          2.5293078422546387,
          -13.375405311584473,
          -0.6776164770126343,
          -11.78651237487793,
          -6.018846035003662,
          -2.332622766494751,
          5.580249786376953,
          2.6989681720733643,
          8.040691375732422,
          -2.516042947769165,
          -4.886638164520264,
          1.5985435247421265,
          6.534647464752197,
          -3.1445701122283936,
          -5.678271293640137,
          7.520456790924072,
          -5.393969535827637,
          -2.5966529846191406,
          4.191934585571289,
          10.675122261047363,
          -10.410423278808594,
          11.541054725646973,
          -10.187468528747559,
          -11.376309394836426,
          6.475054740905762,
          1.35393226146698,
          1.9552204608917236,
          11.061630249023438,
          6.783852577209473,
          -5.453011989593506,
          7.416199207305908,
          -10.702875137329102,
          -10.974651336669922,
          -3.4380264282226562,
          3.34740948677063,
          -10.606245994567871,
          -1.7723159790039062,
          4.437220573425293,
          0.14831365644931793,
          -0.7325133681297302,
          9.979118347167969,
          2.472860097885132,
          2.0588860511779785,
          2.185701370239258,
          -3.105567455291748,
          6.2886505126953125,
          3.275763511657715,
          -11.142701148986816,
          -5.171477794647217,
          -2.3811380863189697,
          5.244753837585449,
          -12.29400634765625,
          -7.9222187995910645,
          1.3572050333023071,
          -1.0276890993118286,
          -7.987349987030029,
          -15.094660758972168,
          -1.6963272094726562,
          3.5435123443603516,
          0.03641502931714058,
          6.338560581207275,
          9.659914016723633,
          7.3955230712890625,
          4.327391147613525,
          5.674100399017334,
          -8.220584869384766,
          5.97352409362793,
          0.46931710839271545,
          -3.6447129249572754,
          3.1470589637756348,
          3.1800363063812256,
          10.295639991760254,
          -4.062690258026123,
          4.208550453186035,
          1.4238622188568115,
          6.975772857666016,
          1.6822158098220825,
          9.954236030578613,
          -8.807701110839844,
          7.671411991119385,
          -1.0979549884796143,
          11.631766319274902,
          3.792612314224243,
          3.214719295501709,
          -0.7949762940406799,
          2.8564529418945312,
          0.16818851232528687,
          -7.048455238342285,
          0.4633878171443939,
          -2.134897232055664,
          -1.99323308467865,
          10.299818992614746,
          -2.8964548110961914,
          9.210599899291992,
          4.916518688201904,
          -3.455608606338501,
          2.1686441898345947,
          -15.288951873779297,
          -13.500408172607422,
          3.8301825523376465,
          8.054465293884277,
          9.672728538513184,
          3.096491575241089,
          -1.0053755044937134,
          2.825112819671631,
          4.626673698425293,
          -1.1511621475219727,
          -6.519533634185791,
          7.648134231567383,
          -3.2817139625549316,
          3.052497148513794,
          2.090977907180786,
          -14.645915985107422,
          -0.4026111960411072,
          -2.851842164993286,
          0.7528775334358215,
          7.251227855682373,
          -7.00573205947876,
          -4.8612236976623535,
          -7.067963600158691,
          -3.6782846450805664,
          -1.5475237369537354,
          -3.949892282485962,
          4.589175701141357,
          -4.847092628479004,
          7.937549114227295,
          11.213202476501465,
          -3.103224039077759,
          -1.0864219665527344,
          -2.5035383701324463,
          6.156110763549805,
          6.545760154724121,
          -2.769639492034912,
          -9.525922775268555,
          3.0076844692230225,
          -2.0448458194732666,
          -0.5254539251327515,
          5.899493217468262,
          -10.487113952636719,
          2.389174699783325,
          -2.813563823699951,
          4.204319477081299,
          6.809410572052002,
          -7.236949443817139,
          11.565805435180664,
          -8.691534042358398,
          7.000494480133057,
          -1.6893749237060547,
          2.726801633834839,
          -1.9370412826538086,
          8.624917984008789,
          4.873640060424805,
          -6.714043140411377,
          -5.403328895568848,
          10.0172758102417,
          -11.950458526611328,
          -12.18848705291748,
          -2.4759750366210938,
          1.0036486387252808,
          -8.247203826904297,
          -8.187078475952148,
          -4.300167083740234,
          -15.58678913116455,
          4.615603923797607,
          -7.979626655578613,
          1.5135785341262817,
          -3.844712734222412,
          1.8252168893814087,
          -5.0503129959106445,
          -4.942269802093506,
          9.88157844543457,
          3.7831673622131348,
          -12.573956489562988,
          1.1256210803985596,
          1.9765586853027344,
          -14.347376823425293,
          5.546871185302734,
          -1.6021453142166138,
          5.4596028327941895,
          -10.794572830200195,
          4.919009208679199,
          -12.191302299499512,
          7.650023460388184,
          -9.67738151550293,
          -13.99573802947998,
          -6.785791873931885,
          -7.406601905822754,
          -5.520218849182129,
          5.940230846405029,
          4.190638542175293,
          -1.4799611568450928,
          -1.4089947938919067,
          -1.9361933469772339,
          -14.011787414550781,
          -4.502898693084717,
          10.322524070739746,
          -8.925003051757812,
          8.277445793151855,
          -2.5271265506744385,
          -3.6086127758026123,
          -0.5586989521980286,
          -2.610792875289917,
          -5.432150840759277,
          2.399573802947998,
          5.177004814147949,
          5.877219200134277,
          6.556042671203613,
          -11.483683586120605,
          -7.240264415740967,
          -12.133007049560547,
          5.433340549468994,
          3.0099058151245117,
          -6.505486488342285,
          0.07246268540620804,
          -6.368426322937012,
          12.285079956054688,
          10.028663635253906,
          -8.157376289367676,
          2.774385452270508,
          -6.8664350509643555,
          -6.074192047119141,
          -13.84538459777832,
          -11.46280574798584,
          4.906949043273926,
          -2.1705095767974854,
          4.884803771972656,
          3.926988363265991,
          0.05644800513982773,
          1.553799033164978,
          5.250011444091797,
          -0.8801305890083313,
          2.5508973598480225,
          -10.65740966796875,
          -11.936426162719727,
          5.219557285308838,
          -3.8945271968841553,
          -6.272583961486816,
          -2.834038019180298,
          11.429692268371582,
          2.839982748031616,
          -0.6588914394378662,
          -0.46869605779647827,
          -7.365776062011719,
          -13.974682807922363,
          -3.080078601837158,
          1.993468165397644,
          8.076135635375977,
          -7.837502956390381,
          0.6074808835983276,
          12.026167869567871,
          -5.959756851196289,
          -1.5797600746154785,
          3.1090807914733887,
          2.839658260345459,
          14.096832275390625,
          -5.720404624938965,
          3.867777109146118,
          -2.6402785778045654,
          0.10762225836515427,
          5.911901950836182,
          3.939786195755005,
          -4.404425621032715,
          7.480810642242432,
          2.115304470062256,
          -1.1771411895751953,
          10.044390678405762,
          0.024390852078795433,
          10.067651748657227,
          3.469649076461792,
          1.4039247035980225,
          0.47081395983695984,
          12.052254676818848,
          3.4107236862182617,
          0.5486987829208374,
          7.811037063598633,
          -8.241079330444336,
          -3.9324207305908203,
          -11.85656452178955,
          -10.846268653869629,
          11.738167762756348,
          -0.5728353261947632,
          8.972196578979492,
          -6.926046371459961,
          2.747403383255005,
          0.06037071719765663,
          3.990213394165039,
          -4.076127529144287,
          3.03694486618042,
          3.8799970149993896,
          -9.807976722717285,
          -2.003192186355591,
          4.914294719696045,
          -10.154047966003418,
          13.672161102294922,
          -7.805976390838623,
          -10.029129981994629,
          5.900986194610596,
          -2.5927538871765137,
          -3.028113842010498,
          -3.641460418701172,
          2.7445361614227295,
          -11.067309379577637,
          0.09774456173181534,
          -12.962190628051758,
          -2.332972764968872,
          -3.4993276596069336,
          7.019525051116943,
          2.9791390895843506,
          7.287499904632568,
          -0.6300203204154968,
          6.698938846588135,
          8.42158031463623,
          -0.4248323142528534,
          -0.4348403811454773,
          3.3135504722595215,
          -1.616101861000061,
          13.12094497680664,
          11.959141731262207,
          8.93488597869873,
          -13.481204986572266,
          -0.2375507652759552,
          6.919492244720459,
          -7.691474437713623,
          0.6859014630317688,
          -1.4949907064437866,
          -0.18158869445323944,
          0.07571523636579514,
          -8.147371292114258,
          1.738720178604126,
          13.388665199279785,
          -4.653499126434326,
          -2.0798680782318115,
          6.723616600036621,
          5.374260425567627,
          -2.3437306880950928,
          9.910077095031738,
          2.894908905029297,
          8.737329483032227,
          -11.348234176635742,
          -2.0923004150390625,
          -4.044695854187012,
          2.033447265625,
          -5.432032108306885,
          3.3148837089538574,
          -3.9504880905151367,
          8.060310363769531,
          6.994336128234863,
          4.467008113861084,
          4.341461181640625,
          4.8819899559021,
          -2.6751315593719482,
          9.600549697875977,
          -3.3659908771514893,
          -0.1119658425450325,
          -10.401986122131348,
          3.28735089302063,
          3.861865282058716,
          9.178159713745117,
          -13.648508071899414,
          8.929200172424316,
          -5.167941570281982,
          11.336847305297852,
          -4.429192543029785,
          -7.416916847229004,
          8.176088333129883,
          -1.348513126373291,
          1.806749701499939,
          0.831636905670166,
          -5.475749492645264,
          -8.620400428771973,
          1.787994146347046,
          -10.841933250427246,
          -10.33850383758545,
          8.555010795593262,
          7.066107749938965,
          8.11772632598877,
          -5.485315799713135,
          -5.449145317077637,
          -0.6211445331573486,
          -8.349072456359863,
          -4.175934314727783,
          -7.598001003265381,
          -13.29941463470459,
          5.173580169677734,
          4.081839561462402,
          5.5163164138793945,
          -14.13643741607666,
          -5.5597920417785645,
          8.687167167663574,
          -5.001458644866943,
          1.838811993598938,
          -9.309162139892578,
          -8.770548820495605,
          -2.1905903816223145,
          -2.090344190597534,
          -1.1555875539779663,
          -3.815706253051758,
          1.104183554649353,
          -7.80470609664917,
          -9.137556076049805,
          4.2327561378479,
          -4.393770217895508,
          -5.779768466949463,
          4.482265949249268,
          -10.090307235717773,
          -11.578197479248047,
          -2.259552478790283,
          -2.505850076675415,
          11.988382339477539,
          0.8520440459251404,
          11.501943588256836,
          4.950103282928467,
          5.997111797332764,
          -3.8251614570617676,
          -13.968745231628418,
          -0.6029269695281982,
          -11.185482025146484,
          -2.8884544372558594,
          -12.970329284667969,
          -6.676697254180908,
          -6.497745037078857,
          -11.652677536010742,
          9.838647842407227,
          -13.147720336914062,
          1.8324227333068848,
          -13.168899536132812,
          -12.936479568481445,
          4.665736198425293,
          1.43775475025177,
          -4.772175312042236,
          -0.418936550617218,
          8.2971773147583,
          -11.26749038696289,
          -11.162337303161621,
          9.151622772216797,
          -0.8275706768035889,
          -8.19720458984375,
          -4.257186412811279,
          -1.0494914054870605,
          11.718164443969727,
          -11.172494888305664,
          -7.786911964416504,
          5.719722270965576,
          11.232992172241211,
          -10.504287719726562,
          -2.70912504196167,
          -3.105747938156128,
          4.008626461029053,
          -0.8798224925994873,
          -9.39309024810791,
          9.973580360412598,
          6.4885053634643555,
          -8.333649635314941,
          7.013368606567383,
          -5.936965465545654,
          0.1148722916841507,
          4.108827114105225,
          2.8432538509368896,
          2.2669122219085693,
          6.026393890380859,
          -11.053719520568848,
          -3.364381790161133,
          -13.553984642028809,
          -11.222222328186035,
          -3.361741781234741,
          3.529681444168091,
          -8.24207878112793,
          8.396060943603516,
          1.4355530738830566,
          -11.410517692565918,
          3.6095967292785645,
          9.366790771484375,
          9.416532516479492,
          3.5444772243499756,
          -5.136148929595947,
          -6.749231338500977,
          -12.777087211608887,
          2.88564133644104,
          9.850764274597168,
          0.906804621219635,
          -3.7819621562957764,
          -7.275141716003418,
          7.348843574523926,
          -9.409529685974121,
          -14.469149589538574,
          -3.435737371444702,
          0.47624123096466064,
          -10.933905601501465,
          -2.13061261177063,
          -3.4807190895080566,
          3.0384185314178467,
          4.331138610839844,
          5.789405822753906,
          6.210188388824463,
          6.24890661239624,
          3.4874062538146973,
          -6.864099502563477,
          6.387426376342773,
          0.9792473316192627,
          -3.437653064727783,
          1.0862383842468262,
          7.9344305992126465,
          7.186838150024414,
          -12.45103645324707,
          0.30430495738983154,
          -1.7969721555709839,
          9.08996868133545,
          -2.661746025085449,
          -2.06476092338562,
          -0.5110490918159485,
          -1.6551599502563477,
          -11.121285438537598,
          5.900275230407715,
          -13.393858909606934,
          5.987712860107422,
          -5.317208766937256,
          7.764765739440918,
          -4.647986888885498,
          3.569542646408081,
          -14.2608642578125,
          0.9772340059280396,
          8.250141143798828,
          -6.4770636558532715,
          7.141547203063965,
          5.522042274475098,
          0.22536760568618774,
          -3.5105581283569336,
          0.7864174246788025,
          -6.332626819610596,
          -9.052006721496582,
          -8.197737693786621,
          -6.097469806671143,
          10.509333610534668,
          1.5984922647476196,
          1.6297370195388794,
          -2.4412128925323486,
          3.915555477142334,
          10.088153839111328,
          -0.6695889830589294,
          -13.950389862060547,
          1.235243558883667,
          1.1257479190826416,
          -11.987258911132812,
          5.394102096557617,
          8.300992012023926,
          -4.170577526092529,
          -8.63633918762207,
          -12.193989753723145,
          -5.761596202850342,
          10.253214836120605,
          -12.24018669128418,
          0.038889288902282715,
          -12.4796724319458,
          6.372374534606934,
          -2.105879306793213,
          8.634684562683105,
          1.416008710861206,
          -0.20951545238494873,
          -12.776631355285645,
          4.405186176300049,
          2.8691201210021973,
          3.6711127758026123,
          -5.519016742706299,
          1.2480391263961792,
          -5.557486057281494,
          -7.479771614074707,
          -4.139374256134033,
          -12.175870895385742,
          -5.095697402954102,
          -8.225202560424805,
          2.5563254356384277,
          7.367190837860107,
          10.85401725769043,
          6.122500419616699,
          -6.405843257904053,
          -1.5369741916656494,
          -2.030148506164551,
          -0.6845904588699341,
          2.370337724685669,
          3.678933620452881,
          6.492053031921387,
          2.6247270107269287,
          0.36917805671691895,
          -2.2669591903686523,
          -11.739404678344727,
          10.442127227783203,
          -4.203302383422852,
          -2.84450101852417,
          -13.30177116394043,
          2.792794704437256,
          4.154668807983398,
          -11.268218040466309,
          -13.93924617767334,
          7.544286727905273
         ],
         "yaxis": "y"
        }
       ],
       "layout": {
        "coloraxis": {
         "colorbar": {
          "title": {
           "text": "color"
          }
         },
         "colorscale": [
          [
           0,
           "#0d0887"
          ],
          [
           0.1111111111111111,
           "#46039f"
          ],
          [
           0.2222222222222222,
           "#7201a8"
          ],
          [
           0.3333333333333333,
           "#9c179e"
          ],
          [
           0.4444444444444444,
           "#bd3786"
          ],
          [
           0.5555555555555556,
           "#d8576b"
          ],
          [
           0.6666666666666666,
           "#ed7953"
          ],
          [
           0.7777777777777778,
           "#fb9f3a"
          ],
          [
           0.8888888888888888,
           "#fdca26"
          ],
          [
           1,
           "#f0f921"
          ]
         ]
        },
        "legend": {
         "tracegroupgap": 0
        },
        "margin": {
         "t": 60
        },
        "template": {
         "data": {
          "bar": [
           {
            "error_x": {
             "color": "#2a3f5f"
            },
            "error_y": {
             "color": "#2a3f5f"
            },
            "marker": {
             "line": {
              "color": "#E5ECF6",
              "width": 0.5
             },
             "pattern": {
              "fillmode": "overlay",
              "size": 10,
              "solidity": 0.2
             }
            },
            "type": "bar"
           }
          ],
          "barpolar": [
           {
            "marker": {
             "line": {
              "color": "#E5ECF6",
              "width": 0.5
             },
             "pattern": {
              "fillmode": "overlay",
              "size": 10,
              "solidity": 0.2
             }
            },
            "type": "barpolar"
           }
          ],
          "carpet": [
           {
            "aaxis": {
             "endlinecolor": "#2a3f5f",
             "gridcolor": "white",
             "linecolor": "white",
             "minorgridcolor": "white",
             "startlinecolor": "#2a3f5f"
            },
            "baxis": {
             "endlinecolor": "#2a3f5f",
             "gridcolor": "white",
             "linecolor": "white",
             "minorgridcolor": "white",
             "startlinecolor": "#2a3f5f"
            },
            "type": "carpet"
           }
          ],
          "choropleth": [
           {
            "colorbar": {
             "outlinewidth": 0,
             "ticks": ""
            },
            "type": "choropleth"
           }
          ],
          "contour": [
           {
            "colorbar": {
             "outlinewidth": 0,
             "ticks": ""
            },
            "colorscale": [
             [
              0,
              "#0d0887"
             ],
             [
              0.1111111111111111,
              "#46039f"
             ],
             [
              0.2222222222222222,
              "#7201a8"
             ],
             [
              0.3333333333333333,
              "#9c179e"
             ],
             [
              0.4444444444444444,
              "#bd3786"
             ],
             [
              0.5555555555555556,
              "#d8576b"
             ],
             [
              0.6666666666666666,
              "#ed7953"
             ],
             [
              0.7777777777777778,
              "#fb9f3a"
             ],
             [
              0.8888888888888888,
              "#fdca26"
             ],
             [
              1,
              "#f0f921"
             ]
            ],
            "type": "contour"
           }
          ],
          "contourcarpet": [
           {
            "colorbar": {
             "outlinewidth": 0,
             "ticks": ""
            },
            "type": "contourcarpet"
           }
          ],
          "heatmap": [
           {
            "colorbar": {
             "outlinewidth": 0,
             "ticks": ""
            },
            "colorscale": [
             [
              0,
              "#0d0887"
             ],
             [
              0.1111111111111111,
              "#46039f"
             ],
             [
              0.2222222222222222,
              "#7201a8"
             ],
             [
              0.3333333333333333,
              "#9c179e"
             ],
             [
              0.4444444444444444,
              "#bd3786"
             ],
             [
              0.5555555555555556,
              "#d8576b"
             ],
             [
              0.6666666666666666,
              "#ed7953"
             ],
             [
              0.7777777777777778,
              "#fb9f3a"
             ],
             [
              0.8888888888888888,
              "#fdca26"
             ],
             [
              1,
              "#f0f921"
             ]
            ],
            "type": "heatmap"
           }
          ],
          "heatmapgl": [
           {
            "colorbar": {
             "outlinewidth": 0,
             "ticks": ""
            },
            "colorscale": [
             [
              0,
              "#0d0887"
             ],
             [
              0.1111111111111111,
              "#46039f"
             ],
             [
              0.2222222222222222,
              "#7201a8"
             ],
             [
              0.3333333333333333,
              "#9c179e"
             ],
             [
              0.4444444444444444,
              "#bd3786"
             ],
             [
              0.5555555555555556,
              "#d8576b"
             ],
             [
              0.6666666666666666,
              "#ed7953"
             ],
             [
              0.7777777777777778,
              "#fb9f3a"
             ],
             [
              0.8888888888888888,
              "#fdca26"
             ],
             [
              1,
              "#f0f921"
             ]
            ],
            "type": "heatmapgl"
           }
          ],
          "histogram": [
           {
            "marker": {
             "pattern": {
              "fillmode": "overlay",
              "size": 10,
              "solidity": 0.2
             }
            },
            "type": "histogram"
           }
          ],
          "histogram2d": [
           {
            "colorbar": {
             "outlinewidth": 0,
             "ticks": ""
            },
            "colorscale": [
             [
              0,
              "#0d0887"
             ],
             [
              0.1111111111111111,
              "#46039f"
             ],
             [
              0.2222222222222222,
              "#7201a8"
             ],
             [
              0.3333333333333333,
              "#9c179e"
             ],
             [
              0.4444444444444444,
              "#bd3786"
             ],
             [
              0.5555555555555556,
              "#d8576b"
             ],
             [
              0.6666666666666666,
              "#ed7953"
             ],
             [
              0.7777777777777778,
              "#fb9f3a"
             ],
             [
              0.8888888888888888,
              "#fdca26"
             ],
             [
              1,
              "#f0f921"
             ]
            ],
            "type": "histogram2d"
           }
          ],
          "histogram2dcontour": [
           {
            "colorbar": {
             "outlinewidth": 0,
             "ticks": ""
            },
            "colorscale": [
             [
              0,
              "#0d0887"
             ],
             [
              0.1111111111111111,
              "#46039f"
             ],
             [
              0.2222222222222222,
              "#7201a8"
             ],
             [
              0.3333333333333333,
              "#9c179e"
             ],
             [
              0.4444444444444444,
              "#bd3786"
             ],
             [
              0.5555555555555556,
              "#d8576b"
             ],
             [
              0.6666666666666666,
              "#ed7953"
             ],
             [
              0.7777777777777778,
              "#fb9f3a"
             ],
             [
              0.8888888888888888,
              "#fdca26"
             ],
             [
              1,
              "#f0f921"
             ]
            ],
            "type": "histogram2dcontour"
           }
          ],
          "mesh3d": [
           {
            "colorbar": {
             "outlinewidth": 0,
             "ticks": ""
            },
            "type": "mesh3d"
           }
          ],
          "parcoords": [
           {
            "line": {
             "colorbar": {
              "outlinewidth": 0,
              "ticks": ""
             }
            },
            "type": "parcoords"
           }
          ],
          "pie": [
           {
            "automargin": true,
            "type": "pie"
           }
          ],
          "scatter": [
           {
            "fillpattern": {
             "fillmode": "overlay",
             "size": 10,
             "solidity": 0.2
            },
            "type": "scatter"
           }
          ],
          "scatter3d": [
           {
            "line": {
             "colorbar": {
              "outlinewidth": 0,
              "ticks": ""
             }
            },
            "marker": {
             "colorbar": {
              "outlinewidth": 0,
              "ticks": ""
             }
            },
            "type": "scatter3d"
           }
          ],
          "scattercarpet": [
           {
            "marker": {
             "colorbar": {
              "outlinewidth": 0,
              "ticks": ""
             }
            },
            "type": "scattercarpet"
           }
          ],
          "scattergeo": [
           {
            "marker": {
             "colorbar": {
              "outlinewidth": 0,
              "ticks": ""
             }
            },
            "type": "scattergeo"
           }
          ],
          "scattergl": [
           {
            "marker": {
             "colorbar": {
              "outlinewidth": 0,
              "ticks": ""
             }
            },
            "type": "scattergl"
           }
          ],
          "scattermapbox": [
           {
            "marker": {
             "colorbar": {
              "outlinewidth": 0,
              "ticks": ""
             }
            },
            "type": "scattermapbox"
           }
          ],
          "scatterpolar": [
           {
            "marker": {
             "colorbar": {
              "outlinewidth": 0,
              "ticks": ""
             }
            },
            "type": "scatterpolar"
           }
          ],
          "scatterpolargl": [
           {
            "marker": {
             "colorbar": {
              "outlinewidth": 0,
              "ticks": ""
             }
            },
            "type": "scatterpolargl"
           }
          ],
          "scatterternary": [
           {
            "marker": {
             "colorbar": {
              "outlinewidth": 0,
              "ticks": ""
             }
            },
            "type": "scatterternary"
           }
          ],
          "surface": [
           {
            "colorbar": {
             "outlinewidth": 0,
             "ticks": ""
            },
            "colorscale": [
             [
              0,
              "#0d0887"
             ],
             [
              0.1111111111111111,
              "#46039f"
             ],
             [
              0.2222222222222222,
              "#7201a8"
             ],
             [
              0.3333333333333333,
              "#9c179e"
             ],
             [
              0.4444444444444444,
              "#bd3786"
             ],
             [
              0.5555555555555556,
              "#d8576b"
             ],
             [
              0.6666666666666666,
              "#ed7953"
             ],
             [
              0.7777777777777778,
              "#fb9f3a"
             ],
             [
              0.8888888888888888,
              "#fdca26"
             ],
             [
              1,
              "#f0f921"
             ]
            ],
            "type": "surface"
           }
          ],
          "table": [
           {
            "cells": {
             "fill": {
              "color": "#EBF0F8"
             },
             "line": {
              "color": "white"
             }
            },
            "header": {
             "fill": {
              "color": "#C8D4E3"
             },
             "line": {
              "color": "white"
             }
            },
            "type": "table"
           }
          ]
         },
         "layout": {
          "annotationdefaults": {
           "arrowcolor": "#2a3f5f",
           "arrowhead": 0,
           "arrowwidth": 1
          },
          "autotypenumbers": "strict",
          "coloraxis": {
           "colorbar": {
            "outlinewidth": 0,
            "ticks": ""
           }
          },
          "colorscale": {
           "diverging": [
            [
             0,
             "#8e0152"
            ],
            [
             0.1,
             "#c51b7d"
            ],
            [
             0.2,
             "#de77ae"
            ],
            [
             0.3,
             "#f1b6da"
            ],
            [
             0.4,
             "#fde0ef"
            ],
            [
             0.5,
             "#f7f7f7"
            ],
            [
             0.6,
             "#e6f5d0"
            ],
            [
             0.7,
             "#b8e186"
            ],
            [
             0.8,
             "#7fbc41"
            ],
            [
             0.9,
             "#4d9221"
            ],
            [
             1,
             "#276419"
            ]
           ],
           "sequential": [
            [
             0,
             "#0d0887"
            ],
            [
             0.1111111111111111,
             "#46039f"
            ],
            [
             0.2222222222222222,
             "#7201a8"
            ],
            [
             0.3333333333333333,
             "#9c179e"
            ],
            [
             0.4444444444444444,
             "#bd3786"
            ],
            [
             0.5555555555555556,
             "#d8576b"
            ],
            [
             0.6666666666666666,
             "#ed7953"
            ],
            [
             0.7777777777777778,
             "#fb9f3a"
            ],
            [
             0.8888888888888888,
             "#fdca26"
            ],
            [
             1,
             "#f0f921"
            ]
           ],
           "sequentialminus": [
            [
             0,
             "#0d0887"
            ],
            [
             0.1111111111111111,
             "#46039f"
            ],
            [
             0.2222222222222222,
             "#7201a8"
            ],
            [
             0.3333333333333333,
             "#9c179e"
            ],
            [
             0.4444444444444444,
             "#bd3786"
            ],
            [
             0.5555555555555556,
             "#d8576b"
            ],
            [
             0.6666666666666666,
             "#ed7953"
            ],
            [
             0.7777777777777778,
             "#fb9f3a"
            ],
            [
             0.8888888888888888,
             "#fdca26"
            ],
            [
             1,
             "#f0f921"
            ]
           ]
          },
          "colorway": [
           "#636efa",
           "#EF553B",
           "#00cc96",
           "#ab63fa",
           "#FFA15A",
           "#19d3f3",
           "#FF6692",
           "#B6E880",
           "#FF97FF",
           "#FECB52"
          ],
          "font": {
           "color": "#2a3f5f"
          },
          "geo": {
           "bgcolor": "white",
           "lakecolor": "white",
           "landcolor": "#E5ECF6",
           "showlakes": true,
           "showland": true,
           "subunitcolor": "white"
          },
          "hoverlabel": {
           "align": "left"
          },
          "hovermode": "closest",
          "mapbox": {
           "style": "light"
          },
          "paper_bgcolor": "white",
          "plot_bgcolor": "#E5ECF6",
          "polar": {
           "angularaxis": {
            "gridcolor": "white",
            "linecolor": "white",
            "ticks": ""
           },
           "bgcolor": "#E5ECF6",
           "radialaxis": {
            "gridcolor": "white",
            "linecolor": "white",
            "ticks": ""
           }
          },
          "scene": {
           "xaxis": {
            "backgroundcolor": "#E5ECF6",
            "gridcolor": "white",
            "gridwidth": 2,
            "linecolor": "white",
            "showbackground": true,
            "ticks": "",
            "zerolinecolor": "white"
           },
           "yaxis": {
            "backgroundcolor": "#E5ECF6",
            "gridcolor": "white",
            "gridwidth": 2,
            "linecolor": "white",
            "showbackground": true,
            "ticks": "",
            "zerolinecolor": "white"
           },
           "zaxis": {
            "backgroundcolor": "#E5ECF6",
            "gridcolor": "white",
            "gridwidth": 2,
            "linecolor": "white",
            "showbackground": true,
            "ticks": "",
            "zerolinecolor": "white"
           }
          },
          "shapedefaults": {
           "line": {
            "color": "#2a3f5f"
           }
          },
          "ternary": {
           "aaxis": {
            "gridcolor": "white",
            "linecolor": "white",
            "ticks": ""
           },
           "baxis": {
            "gridcolor": "white",
            "linecolor": "white",
            "ticks": ""
           },
           "bgcolor": "#E5ECF6",
           "caxis": {
            "gridcolor": "white",
            "linecolor": "white",
            "ticks": ""
           }
          },
          "title": {
           "x": 0.05
          },
          "xaxis": {
           "automargin": true,
           "gridcolor": "white",
           "linecolor": "white",
           "ticks": "",
           "title": {
            "standoff": 15
           },
           "zerolinecolor": "white",
           "zerolinewidth": 2
          },
          "yaxis": {
           "automargin": true,
           "gridcolor": "white",
           "linecolor": "white",
           "ticks": "",
           "title": {
            "standoff": 15
           },
           "zerolinecolor": "white",
           "zerolinewidth": 2
          }
         }
        },
        "title": {
         "text": "t-SNE visualization of Images"
        },
        "xaxis": {
         "anchor": "y",
         "domain": [
          0,
          1
         ],
         "title": {
          "text": "First t-SNE"
         }
        },
        "yaxis": {
         "anchor": "x",
         "domain": [
          0,
          1
         ],
         "title": {
          "text": "Second t-SNE"
         }
        }
       }
      }
     },
     "metadata": {},
     "output_type": "display_data"
    }
   ],
   "source": [
    "fig = px.scatter(x=X_tsne[:, 0], y=X_tsne[:, 1], color = coarse_labels)\n",
    "fig.update_layout(\n",
    "    title=\"t-SNE visualization of Images\",\n",
    "    xaxis_title=\"First t-SNE\",\n",
    "    yaxis_title=\"Second t-SNE\",\n",
    ")\n",
    "fig.show()"
   ]
  },
  {
   "cell_type": "code",
   "execution_count": 27,
   "id": "b60f88ac",
   "metadata": {},
   "outputs": [],
   "source": [
    "# Apply PCA to reduce dimensionality\n",
    "pca = PCA(n_components=100)  # Choose the number of components\n",
    "image_data_pca = pca.fit_transform(data)"
   ]
  },
  {
   "cell_type": "code",
   "execution_count": 28,
   "id": "8a70e2ee",
   "metadata": {},
   "outputs": [
    {
     "name": "stderr",
     "output_type": "stream",
     "text": [
      "/Users/santiagolopez/miniforge3/envs/Data_vis/lib/python3.12/site-packages/sklearn/cluster/_kmeans.py:1416: FutureWarning:\n",
      "\n",
      "The default value of `n_init` will change from 10 to 'auto' in 1.4. Set the value of `n_init` explicitly to suppress the warning\n",
      "\n"
     ]
    }
   ],
   "source": [
    "from sklearn.cluster import KMeans\n",
    "# Perform K-Means clustering\n",
    "n_clusters = 10  # You can choose the number of clusters\n",
    "kmeans = KMeans(n_clusters=n_clusters)\n",
    "labels = kmeans.fit_predict(image_data_pca)  # Use PCA-reduced data if applied"
   ]
  },
  {
   "cell_type": "code",
   "execution_count": 31,
   "id": "6c221281",
   "metadata": {},
   "outputs": [
    {
     "data": {
      "image/png": "[encoded data removed]",
      "text/plain": [
       "<Figure size 1500x300 with 10 Axes>"
      ]
     },
     "metadata": {},
     "output_type": "display_data"
    }
   ],
   "source": [
    "import matplotlib.pyplot as plt\n",
    "# Create subplots for each cluster\n",
    "fig, axs = plt.subplots(1, n_clusters, figsize=(15, 3))\n",
    "\n",
    "for cluster_id in range(n_clusters):\n",
    "    cluster_indices = np.where(labels == cluster_id)[0]\n",
    "    cluster_images = [data[i].reshape(32, 32, 3) for i in cluster_indices]\n",
    "\n",
    "    axs[cluster_id].imshow(cluster_images[0])\n",
    "    axs[cluster_id].set_title(f'Cluster {cluster_id}')\n",
    "    axs[cluster_id].axis('off')\n",
    "\n",
    "plt.show()\n"
   ]
  },
  {
   "cell_type": "markdown",
   "id": "c374f23d",
   "metadata": {},
   "source": [
    "# Color Histogram"
   ]
  },
  {
   "cell_type": "code",
   "execution_count": 37,
   "id": "03123dd6",
   "metadata": {},
   "outputs": [],
   "source": [
    "# Reshape the image data to have separate channels and individual images\n",
    "image_data = data.reshape(-1, 32, 32, 3)"
   ]
  },
  {
   "cell_type": "code",
   "execution_count": 38,
   "id": "30f1363c",
   "metadata": {},
   "outputs": [],
   "source": [
    "import cv2\n",
    "color_histograms = []\n",
    "\n",
    "for i in range(image_data.shape[0]):\n",
    "    image = image_data[i]\n",
    "    \n",
    "    # Separate the channels\n",
    "    red_channel = image[:, :, 0]\n",
    "    green_channel = image[:, :, 1]\n",
    "    blue_channel = image[:, :, 2]\n",
    "    \n",
    "    # Calculate histograms for each channel\n",
    "    red_hist = cv2.calcHist([red_channel], [0], None, [256], [0, 256]).flatten()\n",
    "    green_hist = cv2.calcHist([green_channel], [0], None, [256], [0, 256]).flatten()\n",
    "    blue_hist = cv2.calcHist([blue_channel], [0], None, [256], [0, 256]).flatten()\n",
    "    \n",
    "    # Concatenate the histograms into a single feature vector\n",
    "    combined_hist = np.hstack((red_hist, green_hist, blue_hist))\n",
    "    color_histograms.append(combined_hist)\n",
    "\n",
    "# Convert the list of histograms to a NumPy array\n",
    "color_histograms = np.array(color_histograms)\n"
   ]
  },
  {
   "cell_type": "code",
   "execution_count": 40,
   "id": "877d56b6",
   "metadata": {},
   "outputs": [
    {
     "ename": "ValueError",
     "evalue": "Found array with dim 4. KMeans expected <= 2.",
     "output_type": "error",
     "traceback": [
      "\u001b[0;31m---------------------------------------------------------------------------\u001b[0m",
      "\u001b[0;31mValueError\u001b[0m                                Traceback (most recent call last)",
      "\u001b[1;32m/Users/santiagolopez/Library/CloudStorage/OneDrive-UGent/Courses/2023-2/Data Visualization/Assigment 3/Trial.ipynb Cell 17\u001b[0m line \u001b[0;36m4\n\u001b[1;32m      <a href='vscode-notebook-cell:/Users/santiagolopez/Library/CloudStorage/OneDrive-UGent/Courses/2023-2/Data%20Visualization/Assigment%203/Trial.ipynb#X21sZmlsZQ%3D%3D?line=1'>2</a>\u001b[0m n_clusters \u001b[39m=\u001b[39m \u001b[39m4\u001b[39m \u001b[39m# You can choose the number of clusters\u001b[39;00m\n\u001b[1;32m      <a href='vscode-notebook-cell:/Users/santiagolopez/Library/CloudStorage/OneDrive-UGent/Courses/2023-2/Data%20Visualization/Assigment%203/Trial.ipynb#X21sZmlsZQ%3D%3D?line=2'>3</a>\u001b[0m kmeans \u001b[39m=\u001b[39m KMeans(n_clusters\u001b[39m=\u001b[39mn_clusters)\n\u001b[0;32m----> <a href='vscode-notebook-cell:/Users/santiagolopez/Library/CloudStorage/OneDrive-UGent/Courses/2023-2/Data%20Visualization/Assigment%203/Trial.ipynb#X21sZmlsZQ%3D%3D?line=3'>4</a>\u001b[0m labels \u001b[39m=\u001b[39m kmeans\u001b[39m.\u001b[39;49mfit_predict(image_data)\n",
      "File \u001b[0;32m~/miniforge3/envs/Data_vis/lib/python3.12/site-packages/sklearn/cluster/_kmeans.py:1069\u001b[0m, in \u001b[0;36m_BaseKMeans.fit_predict\u001b[0;34m(self, X, y, sample_weight)\u001b[0m\n\u001b[1;32m   1046\u001b[0m \u001b[39mdef\u001b[39;00m \u001b[39mfit_predict\u001b[39m(\u001b[39mself\u001b[39m, X, y\u001b[39m=\u001b[39m\u001b[39mNone\u001b[39;00m, sample_weight\u001b[39m=\u001b[39m\u001b[39mNone\u001b[39;00m):\n\u001b[1;32m   1047\u001b[0m \u001b[39m    \u001b[39m\u001b[39m\"\"\"Compute cluster centers and predict cluster index for each sample.\u001b[39;00m\n\u001b[1;32m   1048\u001b[0m \n\u001b[1;32m   1049\u001b[0m \u001b[39m    Convenience method; equivalent to calling fit(X) followed by\u001b[39;00m\n\u001b[0;32m   (...)\u001b[0m\n\u001b[1;32m   1067\u001b[0m \u001b[39m        Index of the cluster each sample belongs to.\u001b[39;00m\n\u001b[1;32m   1068\u001b[0m \u001b[39m    \"\"\"\u001b[39;00m\n\u001b[0;32m-> 1069\u001b[0m     \u001b[39mreturn\u001b[39;00m \u001b[39mself\u001b[39;49m\u001b[39m.\u001b[39;49mfit(X, sample_weight\u001b[39m=\u001b[39;49msample_weight)\u001b[39m.\u001b[39mlabels_\n",
      "File \u001b[0;32m~/miniforge3/envs/Data_vis/lib/python3.12/site-packages/sklearn/base.py:1152\u001b[0m, in \u001b[0;36m_fit_context.<locals>.decorator.<locals>.wrapper\u001b[0;34m(estimator, *args, **kwargs)\u001b[0m\n\u001b[1;32m   1145\u001b[0m     estimator\u001b[39m.\u001b[39m_validate_params()\n\u001b[1;32m   1147\u001b[0m \u001b[39mwith\u001b[39;00m config_context(\n\u001b[1;32m   1148\u001b[0m     skip_parameter_validation\u001b[39m=\u001b[39m(\n\u001b[1;32m   1149\u001b[0m         prefer_skip_nested_validation \u001b[39mor\u001b[39;00m global_skip_validation\n\u001b[1;32m   1150\u001b[0m     )\n\u001b[1;32m   1151\u001b[0m ):\n\u001b[0;32m-> 1152\u001b[0m     \u001b[39mreturn\u001b[39;00m fit_method(estimator, \u001b[39m*\u001b[39;49margs, \u001b[39m*\u001b[39;49m\u001b[39m*\u001b[39;49mkwargs)\n",
      "File \u001b[0;32m~/miniforge3/envs/Data_vis/lib/python3.12/site-packages/sklearn/cluster/_kmeans.py:1475\u001b[0m, in \u001b[0;36mKMeans.fit\u001b[0;34m(self, X, y, sample_weight)\u001b[0m\n\u001b[1;32m   1447\u001b[0m \u001b[39m@_fit_context\u001b[39m(prefer_skip_nested_validation\u001b[39m=\u001b[39m\u001b[39mTrue\u001b[39;00m)\n\u001b[1;32m   1448\u001b[0m \u001b[39mdef\u001b[39;00m \u001b[39mfit\u001b[39m(\u001b[39mself\u001b[39m, X, y\u001b[39m=\u001b[39m\u001b[39mNone\u001b[39;00m, sample_weight\u001b[39m=\u001b[39m\u001b[39mNone\u001b[39;00m):\n\u001b[1;32m   1449\u001b[0m \u001b[39m    \u001b[39m\u001b[39m\"\"\"Compute k-means clustering.\u001b[39;00m\n\u001b[1;32m   1450\u001b[0m \n\u001b[1;32m   1451\u001b[0m \u001b[39m    Parameters\u001b[39;00m\n\u001b[0;32m   (...)\u001b[0m\n\u001b[1;32m   1473\u001b[0m \u001b[39m        Fitted estimator.\u001b[39;00m\n\u001b[1;32m   1474\u001b[0m \u001b[39m    \"\"\"\u001b[39;00m\n\u001b[0;32m-> 1475\u001b[0m     X \u001b[39m=\u001b[39m \u001b[39mself\u001b[39;49m\u001b[39m.\u001b[39;49m_validate_data(\n\u001b[1;32m   1476\u001b[0m         X,\n\u001b[1;32m   1477\u001b[0m         accept_sparse\u001b[39m=\u001b[39;49m\u001b[39m\"\u001b[39;49m\u001b[39mcsr\u001b[39;49m\u001b[39m\"\u001b[39;49m,\n\u001b[1;32m   1478\u001b[0m         dtype\u001b[39m=\u001b[39;49m[np\u001b[39m.\u001b[39;49mfloat64, np\u001b[39m.\u001b[39;49mfloat32],\n\u001b[1;32m   1479\u001b[0m         order\u001b[39m=\u001b[39;49m\u001b[39m\"\u001b[39;49m\u001b[39mC\u001b[39;49m\u001b[39m\"\u001b[39;49m,\n\u001b[1;32m   1480\u001b[0m         copy\u001b[39m=\u001b[39;49m\u001b[39mself\u001b[39;49m\u001b[39m.\u001b[39;49mcopy_x,\n\u001b[1;32m   1481\u001b[0m         accept_large_sparse\u001b[39m=\u001b[39;49m\u001b[39mFalse\u001b[39;49;00m,\n\u001b[1;32m   1482\u001b[0m     )\n\u001b[1;32m   1484\u001b[0m     \u001b[39mself\u001b[39m\u001b[39m.\u001b[39m_check_params_vs_input(X)\n\u001b[1;32m   1486\u001b[0m     random_state \u001b[39m=\u001b[39m check_random_state(\u001b[39mself\u001b[39m\u001b[39m.\u001b[39mrandom_state)\n",
      "File \u001b[0;32m~/miniforge3/envs/Data_vis/lib/python3.12/site-packages/sklearn/base.py:605\u001b[0m, in \u001b[0;36mBaseEstimator._validate_data\u001b[0;34m(self, X, y, reset, validate_separately, cast_to_ndarray, **check_params)\u001b[0m\n\u001b[1;32m    603\u001b[0m         out \u001b[39m=\u001b[39m X, y\n\u001b[1;32m    604\u001b[0m \u001b[39melif\u001b[39;00m \u001b[39mnot\u001b[39;00m no_val_X \u001b[39mand\u001b[39;00m no_val_y:\n\u001b[0;32m--> 605\u001b[0m     out \u001b[39m=\u001b[39m check_array(X, input_name\u001b[39m=\u001b[39;49m\u001b[39m\"\u001b[39;49m\u001b[39mX\u001b[39;49m\u001b[39m\"\u001b[39;49m, \u001b[39m*\u001b[39;49m\u001b[39m*\u001b[39;49mcheck_params)\n\u001b[1;32m    606\u001b[0m \u001b[39melif\u001b[39;00m no_val_X \u001b[39mand\u001b[39;00m \u001b[39mnot\u001b[39;00m no_val_y:\n\u001b[1;32m    607\u001b[0m     out \u001b[39m=\u001b[39m _check_y(y, \u001b[39m*\u001b[39m\u001b[39m*\u001b[39mcheck_params)\n",
      "File \u001b[0;32m~/miniforge3/envs/Data_vis/lib/python3.12/site-packages/sklearn/utils/validation.py:951\u001b[0m, in \u001b[0;36mcheck_array\u001b[0;34m(array, accept_sparse, accept_large_sparse, dtype, order, copy, force_all_finite, ensure_2d, allow_nd, ensure_min_samples, ensure_min_features, estimator, input_name)\u001b[0m\n\u001b[1;32m    946\u001b[0m     \u001b[39mraise\u001b[39;00m \u001b[39mValueError\u001b[39;00m(\n\u001b[1;32m    947\u001b[0m         \u001b[39m\"\u001b[39m\u001b[39mdtype=\u001b[39m\u001b[39m'\u001b[39m\u001b[39mnumeric\u001b[39m\u001b[39m'\u001b[39m\u001b[39m is not compatible with arrays of bytes/strings.\u001b[39m\u001b[39m\"\u001b[39m\n\u001b[1;32m    948\u001b[0m         \u001b[39m\"\u001b[39m\u001b[39mConvert your data to numeric values explicitly instead.\u001b[39m\u001b[39m\"\u001b[39m\n\u001b[1;32m    949\u001b[0m     )\n\u001b[1;32m    950\u001b[0m \u001b[39mif\u001b[39;00m \u001b[39mnot\u001b[39;00m allow_nd \u001b[39mand\u001b[39;00m array\u001b[39m.\u001b[39mndim \u001b[39m>\u001b[39m\u001b[39m=\u001b[39m \u001b[39m3\u001b[39m:\n\u001b[0;32m--> 951\u001b[0m     \u001b[39mraise\u001b[39;00m \u001b[39mValueError\u001b[39;00m(\n\u001b[1;32m    952\u001b[0m         \u001b[39m\"\u001b[39m\u001b[39mFound array with dim \u001b[39m\u001b[39m%d\u001b[39;00m\u001b[39m. \u001b[39m\u001b[39m%s\u001b[39;00m\u001b[39m expected <= 2.\u001b[39m\u001b[39m\"\u001b[39m\n\u001b[1;32m    953\u001b[0m         \u001b[39m%\u001b[39m (array\u001b[39m.\u001b[39mndim, estimator_name)\n\u001b[1;32m    954\u001b[0m     )\n\u001b[1;32m    956\u001b[0m \u001b[39mif\u001b[39;00m force_all_finite:\n\u001b[1;32m    957\u001b[0m     _assert_all_finite(\n\u001b[1;32m    958\u001b[0m         array,\n\u001b[1;32m    959\u001b[0m         input_name\u001b[39m=\u001b[39minput_name,\n\u001b[1;32m    960\u001b[0m         estimator_name\u001b[39m=\u001b[39mestimator_name,\n\u001b[1;32m    961\u001b[0m         allow_nan\u001b[39m=\u001b[39mforce_all_finite \u001b[39m==\u001b[39m \u001b[39m\"\u001b[39m\u001b[39mallow-nan\u001b[39m\u001b[39m\"\u001b[39m,\n\u001b[1;32m    962\u001b[0m     )\n",
      "\u001b[0;31mValueError\u001b[0m: Found array with dim 4. KMeans expected <= 2."
     ]
    }
   ],
   "source": [
    "# Perform K-Means clustering\n",
    "n_clusters = 4 # You can choose the number of clusters\n",
    "kmeans = KMeans(n_clusters=n_clusters)\n",
    "labels = kmeans.fit_predict(image_data)\n"
   ]
  },
  {
   "cell_type": "code",
   "execution_count": null,
   "id": "ae06dc1d",
   "metadata": {},
   "outputs": [],
   "source": []
  }
 ],
 "metadata": {
  "kernelspec": {
   "display_name": "Python 3 (ipykernel)",
   "language": "python",
   "name": "python3"
  },
  "language_info": {
   "codemirror_mode": {
    "name": "ipython",
    "version": 3
   },
   "file_extension": ".py",
   "mimetype": "text/x-python",
   "name": "python",
   "nbconvert_exporter": "python",
   "pygments_lexer": "ipython3",
   "version": "3.12.0"
  }
 },
 "nbformat": 4,
 "nbformat_minor": 5
}
